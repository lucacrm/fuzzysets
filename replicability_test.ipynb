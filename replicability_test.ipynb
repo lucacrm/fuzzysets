{
 "cells": [
  {
   "cell_type": "code",
   "execution_count": 1,
   "metadata": {},
   "outputs": [],
   "source": [
    "import numpy as np\n",
    "import matplotlib.cm as cm\n",
    "import pandas as pd\n",
    "from possibilearn import *\n",
    "from possibilearn.kernel import GaussianKernel\n",
    "\n",
    "source = 'https://archive.ics.uci.edu/ml/machine-learning-databases/iris/iris.data'\n",
    "\n",
    "iris_df = pd.read_csv(\n",
    "    filepath_or_buffer=source,\n",
    "    header=None,\n",
    "    sep=',')\n",
    "\n",
    "iris_df.columns=['sepal_len', 'sepal_wid', 'petal_len', 'petal_wid', 'class']\n",
    "iris_df.dropna(how=\"all\", inplace=True) # drops the empty line at file-end\n",
    "\n",
    "iris_values = iris_df.iloc[:,:4].values #array dei soli valori\n",
    "iris_labels = iris_df.iloc[:,4].values #array delle etichette"
   ]
  },
  {
   "cell_type": "code",
   "execution_count": 3,
   "metadata": {},
   "outputs": [
    {
     "name": "stdout",
     "output_type": "stream",
     "text": [
      "\n",
      "\n",
      "holdout iteration 0\n",
      "\n",
      "model selection: trying parameters c=0.1, sigma=0.25\n",
      "starting clusterization\n",
      "Unable to infer membership functions\n",
      "\n",
      "model selection: trying parameters c=1, sigma=0.25\n",
      "starting clusterization\n",
      "first clusters [[0, 2, 3, 8, 9, 11, 15, 16, 19, 22, 25, 32, 38, 39, 41, 46, 48, 49, 50, 54, 58, 59, 60, 62, 66, 68, 70, 72, 74, 77, 79, 82, 85, 86, 88, 90, 91, 96, 97, 98, 99, 101, 104, 108, 113, 116, 119], [4, 5, 7, 14, 18, 20, 24, 26, 29, 33, 40, 42, 44, 53, 55, 56, 64, 69, 73, 80, 81, 84, 87, 93, 95, 117], [1, 35, 6, 47, 10, 107, 76, 45, 110, 109, 112, 17, 83, 52, 118, 23, 89, 111, 28, 61, 94], [37, 102, 103, 13, 115, 27]]\n",
      "associated labels ['Iris-versicolor', 'Iris-setosa', 'Iris-virginica', 'Iris-setosa']\n",
      "accuracy:  0.933333333333\n",
      "\n",
      "model selection: trying parameters c=10, sigma=0.25\n",
      "starting clusterization\n",
      "first clusters [[0, 2, 8, 9, 15, 19, 22, 25, 32, 38, 39, 41, 48, 49, 50, 59, 60, 66, 68, 70, 72, 74, 77, 79, 82, 85, 86, 88, 90, 91, 97, 98, 99, 101, 104, 108, 113, 116], [4, 5, 7, 14, 18, 20, 24, 26, 29, 33, 40, 42, 44, 53, 55, 56, 64, 69, 73, 80, 81, 84, 87, 93, 95, 117], [1, 35, 6, 47, 10, 107, 76, 45, 110, 109, 112, 17, 83, 52, 118, 23, 89, 111, 28, 61, 94], [37, 102, 103, 13, 115, 27]]\n",
      "associated labels ['Iris-versicolor', 'Iris-setosa', 'Iris-virginica', 'Iris-setosa']\n",
      "accuracy:  0.933333333333\n",
      "\n",
      "model selection: trying parameters c=0.1, sigma=0.28\n",
      "starting clusterization\n",
      "Unable to infer membership functions\n",
      "\n",
      "model selection: trying parameters c=1, sigma=0.28\n",
      "starting clusterization\n",
      "first clusters [[2, 8, 9, 11, 15, 19, 25, 31, 32, 34, 39, 41, 48, 49, 59, 62, 66, 70, 72, 77, 78, 82, 85, 86, 88, 90, 97, 99, 101, 104, 108, 116], [4, 5, 7, 14, 18, 20, 24, 26, 29, 33, 40, 42, 44, 53, 55, 56, 64, 69, 73, 80, 81, 84, 87, 93, 95, 117], [1, 35, 6, 10, 107, 76, 45, 109, 112, 17, 83, 118, 23, 89, 111, 28, 61, 94], [65, 37, 102, 103, 13, 115, 27], [100, 92]]\n",
      "associated labels ['Iris-versicolor', 'Iris-setosa', 'Iris-virginica', 'Iris-setosa', 'Iris-virginica']\n",
      "accuracy:  0.866666666667\n",
      "\n",
      "model selection: trying parameters c=10, sigma=0.28\n",
      "starting clusterization\n",
      "first clusters [[2, 8, 9, 11, 15, 19, 22, 25, 31, 32, 34, 39, 41, 48, 49, 50, 58, 59, 62, 66, 70, 72, 74, 77, 78, 79, 82, 85, 86, 88, 90, 91, 97, 98, 99, 101, 104, 108, 113, 116], [4, 5, 7, 14, 18, 20, 24, 26, 29, 33, 40, 42, 44, 53, 55, 56, 64, 69, 73, 80, 81, 84, 87, 93, 95, 117], [1, 35, 6, 10, 107, 76, 45, 109, 112, 17, 83, 118, 23, 89, 111, 28, 61, 94], [65, 37, 102, 103, 13, 115, 27], [100, 92]]\n",
      "associated labels ['Iris-versicolor', 'Iris-setosa', 'Iris-virginica', 'Iris-setosa', 'Iris-virginica']\n",
      "accuracy:  0.866666666667\n",
      "\n",
      "best couple (1, 0.25)\n",
      "first clusters [[0, 1, 2, 131, 132, 133, 6, 8, 9, 10, 11, 16, 17, 19, 23, 25, 28, 31, 32, 34, 35, 38, 39, 41, 45, 47, 48, 52, 54, 58, 59, 60, 61, 63, 67, 68, 72, 74, 76, 77, 78, 79, 82, 83, 85, 88, 89, 92, 94, 97, 99, 100, 107, 108, 109, 110, 111, 112, 113, 118, 124, 125, 127], [5, 134, 7, 14, 18, 20, 24, 26, 27, 29, 33, 37, 40, 42, 44, 51, 53, 55, 56, 64, 69, 73, 80, 81, 84, 87, 93, 95, 103, 115, 117, 121, 122, 126]]\n",
      "associated labels ['Iris-virginica', 'Iris-setosa']\n",
      "test accuracy:  0.666666666667\n",
      "training accuracy:  0.666666666667\n",
      "iteration is valid\n",
      "\n",
      "\n",
      "holdout iteration 1\n",
      "\n",
      "model selection: trying parameters c=0.1, sigma=0.25\n",
      "starting clusterization\n",
      "Unable to infer membership functions\n",
      "\n",
      "model selection: trying parameters c=1, sigma=0.25\n",
      "starting clusterization\n",
      "first clusters [[0, 1, 3, 6, 7, 8, 9, 11, 12, 14, 15, 17, 18, 22, 23, 34, 35, 40, 42, 46, 47, 51, 53, 56, 58, 60, 61, 63, 64, 66, 71, 75, 76, 85, 86, 88, 91, 94, 95, 97, 99, 100, 101, 105, 107, 110, 113, 114], [2, 10, 16, 21, 24, 27, 31, 33, 38, 49, 67, 68, 72, 73, 79, 87, 93, 96, 98, 104, 106, 108, 112, 116, 117], [36, 44, 109, 13, 80, 84, 89, 4, 26, 30]]\n",
      "associated labels ['Iris-virginica', 'Iris-setosa', 'Iris-versicolor']\n",
      "accuracy:  0.733333333333\n",
      "\n",
      "model selection: trying parameters c=10, sigma=0.25\n",
      "starting clusterization\n",
      "first clusters [[0, 1, 3, 6, 7, 8, 9, 11, 12, 14, 15, 17, 18, 22, 23, 34, 35, 40, 42, 46, 47, 51, 53, 56, 58, 60, 61, 63, 64, 66, 71, 75, 76, 85, 86, 88, 91, 94, 95, 97, 99, 100, 101, 105, 107, 110, 113, 114], [96, 33, 2, 67, 38, 104, 106, 117, 108, 98, 79, 112, 10, 116, 21, 87, 24, 27, 16, 93, 31], [36, 44, 109, 13, 80, 84, 89, 4, 26, 30]]\n",
      "associated labels ['Iris-virginica', 'Iris-setosa', 'Iris-versicolor']\n",
      "accuracy:  0.733333333333\n",
      "\n",
      "model selection: trying parameters c=0.1, sigma=0.28\n",
      "starting clusterization\n",
      "Unable to infer membership functions\n",
      "\n",
      "model selection: trying parameters c=1, sigma=0.28\n",
      "starting clusterization\n",
      "first clusters [[0, 1, 3, 4, 6, 7, 8, 9, 13, 15, 18, 23, 26, 29, 30, 34, 35, 36, 39, 44, 45, 46, 51, 53, 54, 56, 57, 58, 60, 61, 63, 64, 71, 75, 76, 80, 84, 85, 86, 88, 89, 94, 95, 100, 101, 105, 107, 109, 110, 113, 114, 119], [2, 5, 10, 16, 21, 24, 25, 27, 31, 32, 33, 37, 38, 41, 49, 59, 67, 68, 70, 72, 73, 74, 77, 78, 79, 81, 87, 90, 93, 96, 98, 104, 106, 108, 111, 112, 116, 117], [99, 17, 66, 91], [65, 52, 62], [69, 103]]\n",
      "associated labels ['Iris-versicolor', 'Iris-setosa', 'Iris-versicolor', 'Iris-virginica', 'Iris-virginica']\n",
      "accuracy:  0.733333333333\n",
      "\n",
      "model selection: trying parameters c=10, sigma=0.28\n",
      "starting clusterization\n",
      "first clusters [[0, 1, 3, 4, 6, 7, 8, 9, 13, 15, 18, 23, 26, 29, 30, 34, 35, 36, 39, 44, 45, 46, 51, 53, 54, 57, 58, 60, 61, 63, 64, 71, 75, 76, 80, 84, 85, 86, 88, 89, 94, 95, 100, 101, 105, 107, 109, 110, 113, 114, 119], [2, 5, 10, 16, 21, 24, 25, 27, 31, 32, 33, 37, 38, 41, 49, 59, 67, 68, 70, 72, 73, 74, 77, 78, 79, 81, 87, 90, 93, 96, 98, 104, 106, 108, 111, 112, 116, 117], [99, 17, 66, 91], [65, 52, 62, 55], [69, 103]]\n",
      "associated labels ['Iris-versicolor', 'Iris-setosa', 'Iris-versicolor', 'Iris-virginica', 'Iris-virginica']\n",
      "accuracy:  0.733333333333\n",
      "\n",
      "best couple (1, 0.28)\n",
      "first clusters [[0, 128, 3, 4, 133, 6, 1, 8, 9, 11, 12, 13, 14, 15, 17, 18, 22, 23, 30, 34, 35, 36, 39, 40, 42, 7, 44, 46, 47, 51, 53, 56, 58, 60, 61, 63, 64, 66, 71, 129, 75, 76, 80, 83, 84, 85, 86, 88, 89, 91, 94, 95, 97, 99, 100, 101, 105, 107, 109, 110, 113, 114, 119, 120, 123, 126, 127], [2, 131, 132, 5, 10, 130, 16, 21, 24, 25, 27, 31, 32, 33, 37, 38, 41, 49, 59, 67, 68, 70, 72, 73, 74, 77, 78, 79, 81, 87, 90, 93, 96, 98, 104, 106, 108, 111, 112, 116, 117, 121], [125, 92, 69, 103]]\n",
      "associated labels ['Iris-versicolor', 'Iris-setosa', 'Iris-virginica']\n",
      "test accuracy:  0.733333333333\n",
      "training accuracy:  0.703703703704\n",
      "iteration is valid\n"
     ]
    }
   ],
   "source": [
    "import support_vector_clustering as svc\n",
    "\n",
    "results = svc.iterate_tests(iris_values, iris_labels, [0.1, 1, 10], [0.25, 0.28], 2)"
   ]
  },
  {
   "cell_type": "code",
   "execution_count": 4,
   "metadata": {},
   "outputs": [
    {
     "data": {
      "text/plain": [
       "{'all-accuracies': {(0, 1, 0.25): 0.9333333333333333,\n",
       "  (0, 1, 0.28): 0.8666666666666667,\n",
       "  (0, 10, 0.25): 0.9333333333333333,\n",
       "  (0, 10, 0.28): 0.8666666666666667,\n",
       "  (1, 1, 0.25): 0.7333333333333333,\n",
       "  (1, 1, 0.28): 0.7333333333333333,\n",
       "  (1, 10, 0.25): 0.7333333333333333,\n",
       "  (1, 10, 0.28): 0.7333333333333333},\n",
       " 'all-mean': 0.8166666666666667,\n",
       " 'all-std': 0.0866025403784439,\n",
       " 'seed': 3000958789,\n",
       " 'test-accuracies': {(0, 1, 0.25): 0.6666666666666666,\n",
       "  (1, 1, 0.28): 0.7333333333333333},\n",
       " 'test-mean': 0.7,\n",
       " 'test-std': 0.033333333333333326,\n",
       " 'training-accuracies': {(0, 1, 0.25): 0.6666666666666666,\n",
       "  (1, 1, 0.28): 0.7037037037037037},\n",
       " 'training-mean': 0.6851851851851851,\n",
       " 'training-std': 0.018518518518518545}"
      ]
     },
     "execution_count": 4,
     "metadata": {},
     "output_type": "execute_result"
    }
   ],
   "source": [
    "results"
   ]
  },
  {
   "cell_type": "code",
   "execution_count": 5,
   "metadata": {},
   "outputs": [
    {
     "name": "stdout",
     "output_type": "stream",
     "text": [
      "\n",
      "\n",
      "holdout iteration 0\n",
      "\n",
      "model selection: trying parameters c=0.1, sigma=0.25\n",
      "starting clusterization\n",
      "Unable to infer membership functions\n",
      "\n",
      "model selection: trying parameters c=1, sigma=0.25\n",
      "starting clusterization\n",
      "first clusters [[0, 2, 3, 8, 9, 11, 15, 16, 19, 22, 25, 32, 38, 39, 41, 46, 48, 49, 50, 54, 58, 59, 60, 62, 66, 68, 70, 72, 74, 77, 79, 82, 85, 86, 88, 90, 91, 96, 97, 98, 99, 101, 104, 108, 113, 116, 119], [4, 5, 7, 14, 18, 20, 24, 26, 29, 33, 40, 42, 44, 53, 55, 56, 64, 69, 73, 80, 81, 84, 87, 93, 95, 117], [1, 35, 6, 47, 10, 107, 76, 45, 110, 109, 112, 17, 83, 52, 118, 23, 89, 111, 28, 61, 94], [37, 102, 103, 13, 115, 27]]\n",
      "associated labels ['Iris-versicolor', 'Iris-setosa', 'Iris-virginica', 'Iris-setosa']\n",
      "accuracy:  0.933333333333\n",
      "\n",
      "model selection: trying parameters c=10, sigma=0.25\n",
      "starting clusterization\n",
      "first clusters [[0, 2, 8, 9, 15, 19, 22, 25, 32, 38, 39, 41, 48, 49, 50, 59, 60, 66, 68, 70, 72, 74, 77, 79, 82, 85, 86, 88, 90, 91, 97, 98, 99, 101, 104, 108, 113, 116], [4, 5, 7, 14, 18, 20, 24, 26, 29, 33, 40, 42, 44, 53, 55, 56, 64, 69, 73, 80, 81, 84, 87, 93, 95, 117], [1, 35, 6, 47, 10, 107, 76, 45, 110, 109, 112, 17, 83, 52, 118, 23, 89, 111, 28, 61, 94], [37, 102, 103, 13, 115, 27]]\n",
      "associated labels ['Iris-versicolor', 'Iris-setosa', 'Iris-virginica', 'Iris-setosa']\n",
      "accuracy:  0.933333333333\n",
      "\n",
      "model selection: trying parameters c=0.1, sigma=0.28\n",
      "starting clusterization\n",
      "Unable to infer membership functions\n",
      "\n",
      "model selection: trying parameters c=1, sigma=0.28\n",
      "starting clusterization\n",
      "first clusters [[2, 8, 9, 11, 15, 19, 25, 31, 32, 34, 39, 41, 48, 49, 59, 62, 66, 70, 72, 77, 78, 82, 85, 86, 88, 90, 97, 99, 101, 104, 108, 116], [4, 5, 7, 14, 18, 20, 24, 26, 29, 33, 40, 42, 44, 53, 55, 56, 64, 69, 73, 80, 81, 84, 87, 93, 95, 117], [1, 35, 6, 10, 107, 76, 45, 109, 112, 17, 83, 118, 23, 89, 111, 28, 61, 94], [65, 37, 102, 103, 13, 115, 27], [100, 92]]\n",
      "associated labels ['Iris-versicolor', 'Iris-setosa', 'Iris-virginica', 'Iris-setosa', 'Iris-virginica']\n",
      "accuracy:  0.866666666667\n",
      "\n",
      "model selection: trying parameters c=10, sigma=0.28\n",
      "starting clusterization\n",
      "first clusters [[2, 8, 9, 11, 15, 19, 22, 25, 31, 32, 34, 39, 41, 48, 49, 50, 58, 59, 62, 66, 70, 72, 74, 77, 78, 79, 82, 85, 86, 88, 90, 91, 97, 98, 99, 101, 104, 108, 113, 116], [4, 5, 7, 14, 18, 20, 24, 26, 29, 33, 40, 42, 44, 53, 55, 56, 64, 69, 73, 80, 81, 84, 87, 93, 95, 117], [1, 35, 6, 10, 107, 76, 45, 109, 112, 17, 83, 118, 23, 89, 111, 28, 61, 94], [65, 37, 102, 103, 13, 115, 27], [100, 92]]\n",
      "associated labels ['Iris-versicolor', 'Iris-setosa', 'Iris-virginica', 'Iris-setosa', 'Iris-virginica']\n",
      "accuracy:  0.866666666667\n",
      "\n",
      "best couple (1, 0.25)\n",
      "first clusters [[0, 1, 2, 131, 132, 133, 6, 8, 9, 10, 11, 16, 17, 19, 23, 25, 28, 31, 32, 34, 35, 38, 39, 41, 45, 47, 48, 52, 54, 58, 59, 60, 61, 63, 67, 68, 72, 74, 76, 77, 78, 79, 82, 83, 85, 88, 89, 92, 94, 97, 99, 100, 107, 108, 109, 110, 111, 112, 113, 118, 124, 125, 127], [5, 134, 7, 14, 18, 20, 24, 26, 27, 29, 33, 37, 40, 42, 44, 51, 53, 55, 56, 64, 69, 73, 80, 81, 84, 87, 93, 95, 103, 115, 117, 121, 122, 126]]\n",
      "associated labels ['Iris-virginica', 'Iris-setosa']\n",
      "test accuracy:  0.666666666667\n",
      "training accuracy:  0.666666666667\n",
      "iteration is valid\n",
      "\n",
      "\n",
      "holdout iteration 1\n",
      "\n",
      "model selection: trying parameters c=0.1, sigma=0.25\n",
      "starting clusterization\n",
      "Unable to infer membership functions\n",
      "\n",
      "model selection: trying parameters c=1, sigma=0.25\n",
      "starting clusterization\n",
      "first clusters [[0, 1, 3, 6, 7, 8, 9, 11, 12, 14, 15, 17, 18, 22, 23, 34, 35, 40, 42, 46, 47, 51, 53, 56, 58, 60, 61, 63, 64, 66, 71, 75, 76, 85, 86, 88, 91, 94, 95, 97, 99, 100, 101, 105, 107, 110, 113, 114], [2, 10, 16, 21, 24, 27, 31, 33, 38, 49, 67, 68, 72, 73, 79, 87, 93, 96, 98, 104, 106, 108, 112, 116, 117], [36, 44, 109, 13, 80, 84, 89, 4, 26, 30]]\n",
      "associated labels ['Iris-virginica', 'Iris-setosa', 'Iris-versicolor']\n",
      "accuracy:  0.733333333333\n",
      "\n",
      "model selection: trying parameters c=10, sigma=0.25\n",
      "starting clusterization\n",
      "first clusters [[0, 1, 3, 6, 7, 8, 9, 11, 12, 14, 15, 17, 18, 22, 23, 34, 35, 40, 42, 46, 47, 51, 53, 56, 58, 60, 61, 63, 64, 66, 71, 75, 76, 85, 86, 88, 91, 94, 95, 97, 99, 100, 101, 105, 107, 110, 113, 114], [96, 33, 2, 67, 38, 104, 106, 117, 108, 98, 79, 112, 10, 116, 21, 87, 24, 27, 16, 93, 31], [36, 44, 109, 13, 80, 84, 89, 4, 26, 30]]\n",
      "associated labels ['Iris-virginica', 'Iris-setosa', 'Iris-versicolor']\n",
      "accuracy:  0.733333333333\n",
      "\n",
      "model selection: trying parameters c=0.1, sigma=0.28\n",
      "starting clusterization\n",
      "Unable to infer membership functions\n",
      "\n",
      "model selection: trying parameters c=1, sigma=0.28\n",
      "starting clusterization\n",
      "first clusters [[0, 1, 3, 4, 6, 7, 8, 9, 13, 15, 18, 23, 26, 29, 30, 34, 35, 36, 39, 44, 45, 46, 51, 53, 54, 56, 57, 58, 60, 61, 63, 64, 71, 75, 76, 80, 84, 85, 86, 88, 89, 94, 95, 100, 101, 105, 107, 109, 110, 113, 114, 119], [2, 5, 10, 16, 21, 24, 25, 27, 31, 32, 33, 37, 38, 41, 49, 59, 67, 68, 70, 72, 73, 74, 77, 78, 79, 81, 87, 90, 93, 96, 98, 104, 106, 108, 111, 112, 116, 117], [99, 17, 66, 91], [65, 52, 62], [69, 103]]\n",
      "associated labels ['Iris-versicolor', 'Iris-setosa', 'Iris-versicolor', 'Iris-virginica', 'Iris-virginica']\n",
      "accuracy:  0.733333333333\n",
      "\n",
      "model selection: trying parameters c=10, sigma=0.28\n",
      "starting clusterization\n",
      "first clusters [[0, 1, 3, 4, 6, 7, 8, 9, 13, 15, 18, 23, 26, 29, 30, 34, 35, 36, 39, 44, 45, 46, 51, 53, 54, 57, 58, 60, 61, 63, 64, 71, 75, 76, 80, 84, 85, 86, 88, 89, 94, 95, 100, 101, 105, 107, 109, 110, 113, 114, 119], [2, 5, 10, 16, 21, 24, 25, 27, 31, 32, 33, 37, 38, 41, 49, 59, 67, 68, 70, 72, 73, 74, 77, 78, 79, 81, 87, 90, 93, 96, 98, 104, 106, 108, 111, 112, 116, 117], [99, 17, 66, 91], [65, 52, 62, 55], [69, 103]]\n",
      "associated labels ['Iris-versicolor', 'Iris-setosa', 'Iris-versicolor', 'Iris-virginica', 'Iris-virginica']\n",
      "accuracy:  0.733333333333\n",
      "\n",
      "best couple (1, 0.28)\n",
      "first clusters [[0, 128, 3, 4, 133, 6, 1, 8, 9, 11, 12, 13, 14, 15, 17, 18, 22, 23, 30, 34, 35, 36, 39, 40, 42, 7, 44, 46, 47, 51, 53, 56, 58, 60, 61, 63, 64, 66, 71, 129, 75, 76, 80, 83, 84, 85, 86, 88, 89, 91, 94, 95, 97, 99, 100, 101, 105, 107, 109, 110, 113, 114, 119, 120, 123, 126, 127], [2, 131, 132, 5, 10, 130, 16, 21, 24, 25, 27, 31, 32, 33, 37, 38, 41, 49, 59, 67, 68, 70, 72, 73, 74, 77, 78, 79, 81, 87, 90, 93, 96, 98, 104, 106, 108, 111, 112, 116, 117, 121], [125, 92, 69, 103]]\n",
      "associated labels ['Iris-versicolor', 'Iris-setosa', 'Iris-virginica']\n",
      "test accuracy:  0.733333333333\n",
      "training accuracy:  0.703703703704\n",
      "iteration is valid\n"
     ]
    }
   ],
   "source": [
    "new_results = svc.iterate_tests(iris_values, iris_labels, [0.1, 1, 10], [0.25, 0.28], 2, seed=results['seed'])"
   ]
  },
  {
   "cell_type": "code",
   "execution_count": 6,
   "metadata": {},
   "outputs": [
    {
     "data": {
      "text/plain": [
       "{'all-accuracies': {(0, 1, 0.25): 0.9333333333333333,\n",
       "  (0, 1, 0.28): 0.8666666666666667,\n",
       "  (0, 10, 0.25): 0.9333333333333333,\n",
       "  (0, 10, 0.28): 0.8666666666666667,\n",
       "  (1, 1, 0.25): 0.7333333333333333,\n",
       "  (1, 1, 0.28): 0.7333333333333333,\n",
       "  (1, 10, 0.25): 0.7333333333333333,\n",
       "  (1, 10, 0.28): 0.7333333333333333},\n",
       " 'all-mean': 0.8166666666666667,\n",
       " 'all-std': 0.0866025403784439,\n",
       " 'seed': 3000958789,\n",
       " 'test-accuracies': {(0, 1, 0.25): 0.6666666666666666,\n",
       "  (1, 1, 0.28): 0.7333333333333333},\n",
       " 'test-mean': 0.7,\n",
       " 'test-std': 0.033333333333333326,\n",
       " 'training-accuracies': {(0, 1, 0.25): 0.6666666666666666,\n",
       "  (1, 1, 0.28): 0.7037037037037037},\n",
       " 'training-mean': 0.6851851851851851,\n",
       " 'training-std': 0.018518518518518545}"
      ]
     },
     "execution_count": 6,
     "metadata": {},
     "output_type": "execute_result"
    }
   ],
   "source": [
    "new_results"
   ]
  },
  {
   "cell_type": "code",
   "execution_count": 7,
   "metadata": {},
   "outputs": [
    {
     "data": {
      "text/plain": [
       "True"
      ]
     },
     "execution_count": 7,
     "metadata": {},
     "output_type": "execute_result"
    }
   ],
   "source": [
    "new_results == results"
   ]
  },
  {
   "cell_type": "code",
   "execution_count": null,
   "metadata": {},
   "outputs": [],
   "source": []
  }
 ],
 "metadata": {
  "kernelspec": {
   "display_name": "Python 2",
   "language": "python",
   "name": "python2"
  },
  "language_info": {
   "codemirror_mode": {
    "name": "ipython",
    "version": 2
   },
   "file_extension": ".py",
   "mimetype": "text/x-python",
   "name": "python",
   "nbconvert_exporter": "python",
   "pygments_lexer": "ipython2",
   "version": "2.7.14"
  }
 },
 "nbformat": 4,
 "nbformat_minor": 2
}
