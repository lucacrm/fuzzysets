{
 "cells": [
  {
   "cell_type": "code",
   "execution_count": 1,
   "metadata": {},
   "outputs": [],
   "source": [
    "import numpy as np\n",
    "import matplotlib.cm as cm\n",
    "import pandas as pd\n",
    "from possibilearn.kernel import GaussianKernel\n",
    "import math\n",
    "import itertools as it\n",
    "import gurobipy as gpy\n",
    "\n",
    "source = 'https://archive.ics.uci.edu/ml/machine-learning-databases/iris/iris.data'\n",
    "\n",
    "iris_df = pd.read_csv(\n",
    "    filepath_or_buffer=source,\n",
    "    header=None,\n",
    "    sep=',')\n",
    "\n",
    "iris_df.columns=['sepal_len', 'sepal_wid', 'petal_len', 'petal_wid', 'class']\n",
    "iris_df.dropna(how=\"all\", inplace=True) # drops the empty line at file-end\n",
    "\n",
    "iris_values = iris_df.iloc[:,:4].values #array dei soli valori\n",
    "iris_labels = iris_df.iloc[:,4].values #array delle etichette"
   ]
  },
  {
   "cell_type": "code",
   "execution_count": 2,
   "metadata": {},
   "outputs": [],
   "source": [
    "from sklearn.decomposition import PCA\n",
    "from sklearn.preprocessing import StandardScaler\n",
    "\n",
    "iris_values_std = StandardScaler().fit_transform(iris_values)\n",
    "\n",
    "pca_2d = PCA(n_components=2)\n",
    "iris_values_2d = pca_2d.fit_transform(iris_values_std)\n",
    "\n",
    "pca_3d = PCA(n_components=3)\n",
    "iris_values_3d = pca_3d.fit_transform(iris_values_std)\n",
    "\n",
    "pca_4d = PCA(n_components=4)\n",
    "iris_values_4d = pca_4d.fit_transform(iris_values_std)"
   ]
  },
  {
   "cell_type": "code",
   "execution_count": 3,
   "metadata": {},
   "outputs": [],
   "source": [
    "def print_graph(values, labels):\n",
    "    \n",
    "    %matplotlib inline\n",
    "    import matplotlib.pyplot as plt\n",
    "\n",
    "    values = np.array(values)\n",
    "\n",
    "    fig, axs = plt.subplots(1, 2,\n",
    "    sharey=True, figsize=(15, 4))\n",
    "    fig.subplots_adjust(wspace=0.2)\n",
    "\n",
    "    axs[0].scatter(values[:,0],values[:,1]) #grafico di tutti i punti, senza appartenenza\n",
    "    axs[0].set_xlim(-4,4)\n",
    "\n",
    "    for lab, col in zip(('Iris-setosa', 'Iris-versicolor', 'Iris-virginica'), #grafico con appartenenza\n",
    "                            ('blue', 'green', 'red')):\n",
    "            axs[1].scatter(values[labels==lab, 0],\n",
    "                        values[labels==lab, 1],\n",
    "                        label=lab,\n",
    "                        c=col)\n",
    "    axs[1].set_xlim(-4,4)        \n",
    "\n",
    "    plt.show()"
   ]
  },
  {
   "cell_type": "code",
   "execution_count": 4,
   "metadata": {},
   "outputs": [],
   "source": [
    "def get_a_sample(x, n):\n",
    "    return (np.vstack([iris_values_2d[:n], iris_values_2d[50:50+n], iris_values_2d[100:100+n]]) , \n",
    "            np.vstack([iris_labels[:n], iris_labels[50:50+n], iris_labels[100:100+n]]).ravel() )"
   ]
  },
  {
   "cell_type": "code",
   "execution_count": 5,
   "metadata": {
    "scrolled": true
   },
   "outputs": [],
   "source": [
    "def chop(x, minimum, maximum, tolerance=1e-4):\n",
    "    '''Chops a number when it is sufficiently close to the extreme of\n",
    "   an enclosing interval.\n",
    "\n",
    "Arguments:\n",
    "\n",
    "- x: number to be possibily chopped\n",
    "- minimum: left extreme of the interval containing x\n",
    "- maximum: right extreme of the interval containing x\n",
    "- tolerance: maximum distance in order to chop x\n",
    "\n",
    "Returns: x if it is farther than tolerance by both minimum and maximum;\n",
    "         minimum if x is closer than tolerance to minimum\n",
    "         maximum if x is closer than tolerance to maximum\n",
    "\n",
    "Throws:\n",
    "\n",
    "- ValueError if minimum > maximum or if x does not belong to [minimum, maximum]\n",
    "\n",
    "'''\n",
    "    if minimum > maximum:\n",
    "        raise ValueError('Chop: interval extremes not sorted')\n",
    "    if  x < minimum or x > maximum:\n",
    "        raise ValueError('Chop: value not belonging to interval')\n",
    "\n",
    "    if x - minimum < tolerance:\n",
    "        x = 0\n",
    "    if maximum - x < tolerance:\n",
    "        x = maximum\n",
    "    return x\n",
    "\n",
    "def solve_wolf(values, k, c):\n",
    "    '''\n",
    "    Solves the dual optimization problem on the basis of SV clustering\n",
    "\n",
    "    - x: array containing data to be clustered\n",
    "    - k: kernel function to be used\n",
    "    - c: trade-off parameter\n",
    "    '''\n",
    "\n",
    "    n=len(values)\n",
    "    # p = 1.0 / (n*c)    \n",
    "    \n",
    "    model = gpy.Model('Wolf')\n",
    "    model.setParam('OutputFlag', 0)\n",
    "\n",
    "    for i in range(n):\n",
    "        model.addVar(name=\"beta_%d\" %i, lb=0, ub=c, vtype=gpy.GRB.CONTINUOUS)\n",
    "\n",
    "    model.update()\n",
    "    b = model.getVars()\n",
    "    \n",
    "    # obj == - SVC(11) \n",
    "    obj = gpy.QuadExpr()\n",
    "    for i, j in it.product(range(n), range(n)):\n",
    "        obj.add( b[i] * b[j], k.compute(values[i], values[j]))\n",
    "    \n",
    "    for i in range(n):\n",
    "        obj.add( -1 * b[i] * k.compute(values[i], values[i]))\n",
    "    \n",
    "    model.setObjective(obj, gpy.GRB.MINIMIZE) #minimizzo -SVC(11) anzichè massimizzare SVC(11)\n",
    "    \n",
    "    constEqual = gpy.LinExpr()\n",
    "    constEqual.add(sum(b), 1.0) # SVC(3)\n",
    "\n",
    "    model.addConstr(constEqual, gpy.GRB.EQUAL, 1)\n",
    "\n",
    "    model.optimize()\n",
    "\n",
    "    b_opt = [chop(v.getAttr(\"x\"), 0, c) for v in model.getVars()]\n",
    "    \n",
    "    return b_opt"
   ]
  },
  {
   "cell_type": "code",
   "execution_count": 6,
   "metadata": {},
   "outputs": [],
   "source": [
    "def distance_from_center(x_new, x, b_opt, k, gram_term):\n",
    "    '''\n",
    "    Computes the squared distance between the image of a point and the center of the found sphere\n",
    "    \n",
    "    - x_new: starting point\n",
    "    - x: array of points to be clustered\n",
    "    - b_opt: optimal value of variables in the Wolfe dual problem\n",
    "    - k: kernel function\n",
    "    - gram_term: common addend based on the Gram matrix\n",
    "    '''\n",
    "    \n",
    "    d1 = k.compute(x_new, x_new)\n",
    "    d2 = np.array([k.compute(x_i, x_new) for x_i in x]).dot(b_opt)\n",
    "    d = d1 - 2 * d2 + gram_term\n",
    "    return d\n",
    "\n",
    "def squared_radius_and_distance(x, b_opt, k, c):\n",
    "    '''\n",
    "    Computes the squared squared radius of the found sphere and a function returning\n",
    "    the squared distance between the image of a generic point and the sphere center\n",
    "    \n",
    "    - x: array of points to be clustered\n",
    "    - b_opt: optimal value of variables in the Wolfe dual problem\n",
    "    - k: kernel function\n",
    "    - c: trade-off parameter\n",
    "    \n",
    "    Returns (r, d), where\n",
    "    \n",
    "    - r is the squared radius\n",
    "    - d is the function computing the squared distance\n",
    "    '''\n",
    "    \n",
    "    x_sv = [b for b in b_opt if 0 < b < c]\n",
    "    gram = np.array(np.array([[k.compute(x1, x2) for x1 in x] for x2 in x]))\n",
    "    gram_term = np.array(b_opt).dot(gram.dot(b_opt))\n",
    "    d = lambda x_new: distance_from_center(x_new, x, b_opt, k, gram_term)\n",
    "    r = [d(sv) for sv in x_sv]\n",
    "    if len(r) == 0:\n",
    "        return None\n",
    "    \n",
    "    return (np.mean(r), d)"
   ]
  },
  {
   "cell_type": "code",
   "execution_count": 7,
   "metadata": {},
   "outputs": [],
   "source": [
    "def check_couple(x_start, x_end, radius, d, discretization_size=20):\n",
    "    x_start = np.array(x_start)\n",
    "    x_end = np.array(x_end)\n",
    "    discretization = np.arange(0., 1+1./discretization_size, 1./discretization_size)\n",
    "    for x_between in [alpha*x_start + (1-alpha)*x_end for alpha in discretization]:\n",
    "        if d(x_between) > radius:\n",
    "            return 0\n",
    "    return 1"
   ]
  },
  {
   "cell_type": "code",
   "execution_count": 8,
   "metadata": {},
   "outputs": [],
   "source": [
    "def build_clusters(x, index_v, index_sv, radius, d):\n",
    "    \n",
    "    '''\n",
    "    Build clusters as connected component of the graph which its nodes are the non-BSV points in the \n",
    "    dataset. There is an edge between nodes i and j if for all points in the segment connecting i and j the\n",
    "    squared distance from the center of the sphere is < radius\n",
    "    \n",
    "    - x: array of points to be clustered\n",
    "    - index_v: list/array of the indexes of the non-BSV and non-SV points\n",
    "    - index_sv: list/array of the indexes of the support vectors\n",
    "    - radius: radius of the sphere\n",
    "    - d: function computing the squared distance between two points\n",
    "    '''\n",
    "    import networkx as nx\n",
    "    \n",
    "    G = nx.Graph()\n",
    "    G.add_nodes_from(index_v)\n",
    "    G.add_nodes_from(index_sv)\n",
    "    \n",
    "    couples = [[i,j] for i in index_v for j in index_sv]\n",
    "    \n",
    "    for c in couples:\n",
    "        if check_couple(x[c[0]], x[c[1]], radius, d):\n",
    "            G.add_edge(c[0],c[1])\n",
    "            \n",
    "    return [list(c) for c in list(nx.connected_components(G))]"
   ]
  },
  {
   "cell_type": "code",
   "execution_count": 9,
   "metadata": {},
   "outputs": [],
   "source": [
    "def clustering(x, sigma, c, labels=[], graph=False):\n",
    "    \n",
    "    '''\n",
    "    cluster a set of points by the support vector method\n",
    "    \n",
    "    - x: array of points to be clustered\n",
    "    - sigma: parameter of the GaussianKernel\n",
    "    - c: trade-off parameter\n",
    "    - labels: array of labels ì\n",
    "    - graph: if True plot graphs showing which point are classified support vectors\n",
    "    \n",
    "    Returns (clusters, radius), where\n",
    "    \n",
    "    - clusters is a list of list. each sublist represent a cluster.\n",
    "    - r is the squared radius\n",
    "    '''\n",
    "    \n",
    "    %matplotlib inline\n",
    "    import matplotlib.pyplot as plt\n",
    "    if(graph):\n",
    "        print_graph(x, labels)\n",
    "        \n",
    "    k = GaussianKernel(sigma) \n",
    "    \n",
    "    betas = solve_wolf(x, k, c)\n",
    "    \n",
    "    index_bsv = []\n",
    "    index_sv = []\n",
    "    index_v = []\n",
    "    for i in range(len(betas)):\n",
    "        if 0 < betas[i] < c:\n",
    "            if(graph):\n",
    "                plt.plot(x[i][0],x[i][1],'bo')\n",
    "            index_sv.append(i)\n",
    "        elif betas[i] == c:\n",
    "            if(graph):\n",
    "                plt.plot(x[i][0],x[i][1],'ro')\n",
    "            index_bsv.append(i)\n",
    "        else:\n",
    "            if(graph):\n",
    "                plt.plot(x[i][0],x[i][1],'go')\n",
    "            index_v.append(i)\n",
    "        \n",
    "    radius, d = squared_radius_and_distance(x, betas, k, c)\n",
    "    \n",
    "    if(graph):\n",
    "        plt.show()\n",
    "        \n",
    "    return build_clusters(x, index_v, index_sv, radius, d), radius"
   ]
  },
  {
   "cell_type": "code",
   "execution_count": 10,
   "metadata": {},
   "outputs": [],
   "source": [
    "def count_clusters(clusters):\n",
    "    return len(filter(lambda x: len(x)>1, clusters)), len(filter(lambda x: len(x)==1, clusters))"
   ]
  },
  {
   "cell_type": "code",
   "execution_count": 11,
   "metadata": {},
   "outputs": [],
   "source": [
    "def find_sigma(sample, min_sigma, max_sigma, min_clusters, max_clusters, max_width, n_misclassification, c):\n",
    "    \n",
    "    '''\n",
    "    binary research of a sigma that divied the dataset in a defined number of cluster\n",
    "    \n",
    "    - sample: array of points to be clustered\n",
    "    - min_sigma, max_sigma: define the range of sigma\n",
    "    - min_clusters, max_clusters: define the range of the number of clusters\n",
    "    - max_width: define the max width of the interval for the research of sigma\n",
    "    - n_misclassification: define the max number of admitted singleton cluster\n",
    "    - c: tradeoff parameter\n",
    "    \n",
    "    '''\n",
    "    a = min_sigma\n",
    "    b = max_sigma\n",
    "    \n",
    "    while( (b-a) >= max_width ):\n",
    "        \n",
    "        current_sigma = (a + b)/2\n",
    "        current_clusters, r = clusterize(sample, current_sigma, c)\n",
    "        n_clusters, n_singleton = count_clusters(current_clusters)\n",
    "        \n",
    "        print(\"%.20f\" % current_sigma)\n",
    "        print(current_clusters)\n",
    "        print(n_clusters)\n",
    "        print('\\n')\n",
    "        \n",
    "        if min_clusters <= n_clusters <= max_clusters:\n",
    "            if n_singleton <= n_misclassification:\n",
    "                return current_sigma, current_clusters\n",
    "            else:\n",
    "                a = current_sigma\n",
    "        else:\n",
    "            if n_clusters < min_clusters:\n",
    "                if n_singleton > n_misclassification:\n",
    "                    a = current_sigma\n",
    "                else:\n",
    "                    b = current_sigma\n",
    "                    \n",
    "            if n_clusters > max_clusters:\n",
    "                    b = current_sigma\n",
    "           \n",
    "    return current_sigma, current_clusters"
   ]
  },
  {
   "cell_type": "code",
   "execution_count": 12,
   "metadata": {},
   "outputs": [],
   "source": [
    "#sample, labels = get_a_sample(iris_values_2d, 10)\n",
    "#sigma, clusters = find_sigma(sample, 0.1, 0.3, 3, 4, 1e-8, 0, 1)"
   ]
  },
  {
   "cell_type": "code",
   "execution_count": 13,
   "metadata": {},
   "outputs": [],
   "source": [
    "#sample_, labels_ = get_a_sample(iris_values_2d, 15)\n",
    "#sigma_, clusters_ = find_sigma(sample_, 0.1, 0.3, 3, 4, 1e-8, 0, 1)"
   ]
  },
  {
   "cell_type": "markdown",
   "metadata": {},
   "source": [
    "Con campioni di diverse dimensioni sigma cambia, forse è meglio fare una find_c? visto che c è anche funzione di N"
   ]
  },
  {
   "cell_type": "code",
   "execution_count": 14,
   "metadata": {},
   "outputs": [
    {
     "data": {
      "image/png": "[encoded data removed]",
      "text/plain": [
       "<matplotlib.figure.Figure at 0x1119fa990>"
      ]
     },
     "metadata": {},
     "output_type": "display_data"
    },
    {
     "data": {
      "image/png": "[encoded data removed]",
      "text/plain": [
       "<matplotlib.figure.Figure at 0x1a1b144110>"
      ]
     },
     "metadata": {},
     "output_type": "display_data"
    },
    {
     "name": "stdout",
     "output_type": "stream",
     "text": [
      "[[0, 1, 2, 3, 4, 5, 6, 7, 8, 9, 10, 11, 12, 13, 14], [15, 16, 17, 18, 19, 20, 21, 22, 23, 24, 26, 27, 28, 29, 30, 31, 32, 33, 34, 35, 36, 37, 38, 40, 41, 42, 43, 44], [25], [39]]\n",
      "1.0086584189938268\n"
     ]
    }
   ],
   "source": [
    "sample, labels = get_a_sample(iris_values_2d, 15)\n",
    "sigma = 0.275\n",
    "clusters, radius = clusterize(sample, sigma, 1, labels=labels, graph=True)\n",
    "print clusters\n",
    "print radius"
   ]
  },
  {
   "cell_type": "code",
   "execution_count": 15,
   "metadata": {},
   "outputs": [
    {
     "data": {
      "image/png": "[encoded data removed]",
      "text/plain": [
       "<matplotlib.figure.Figure at 0x10c0fba90>"
      ]
     },
     "metadata": {},
     "output_type": "display_data"
    },
    {
     "data": {
      "image/png": "[encoded data removed]",
      "text/plain": [
       "<matplotlib.figure.Figure at 0x1a1b2f6d10>"
      ]
     },
     "metadata": {},
     "output_type": "display_data"
    },
    {
     "name": "stdout",
     "output_type": "stream",
     "text": [
      "[[0, 1, 2, 3, 4, 5, 6, 7, 8, 9, 10, 11, 12, 13, 14]]\n",
      "1.164950175848105\n"
     ]
    }
   ],
   "source": [
    "clusters0, radius0 = clustering([sample[i] for i in clusters[0]], sigma, 1, \n",
    "                                labels=[labels[i] for i in clusters[0]], graph=True)\n",
    "print clusters0\n",
    "print radius0"
   ]
  },
  {
   "cell_type": "code",
   "execution_count": 16,
   "metadata": {},
   "outputs": [
    {
     "name": "stdout",
     "output_type": "stream",
     "text": [
      "1.164950175848105\n",
      "[0.8350488185982516, 0.8350498283264824, 0.835049828289237, 0.8070918202092521, 0.8350498271680509, 0.8350498271015531, 0.8350498275431344, 0.835049827466265, 0.8350498272810977, 0.8289002627137068, 0.8350498271119478, 0.8140703236013852, 0.7972474887187755, 0.8350498272727327, 0.835049827115486]\n"
     ]
    }
   ],
   "source": [
    "k = GaussianKernel(sigma)\n",
    "betas = solve_wolf([sample[i] for i in clusters[0]], k, 1)\n",
    "r, f = squared_radius_and_distance([sample[i] for i in clusters[0]], betas, k, 1)\n",
    "print r\n",
    "print [f(x) for x in [sample[i] for i in clusters[0]]]"
   ]
  },
  {
   "cell_type": "markdown",
   "metadata": {},
   "source": [
    "Il raggio restituito deve essere sbagliato perchè se il raggio è una media delle distanze dal centro dei support vector\n",
    "e nessun f(x) è > 1 non può esserlo la media.\n",
    "Restituisco raggio al quadrato ma non distanza al quadrato?"
   ]
  },
  {
   "cell_type": "code",
   "execution_count": 17,
   "metadata": {},
   "outputs": [],
   "source": [
    "def get_estimated_membership_function(cluster, sigma, c, n=1500):\n",
    "\n",
    "    def g(m):\n",
    "        return (-4 + np.random.random(2*m) * 8).reshape((m, 2))\n",
    "\n",
    "    k = GaussianKernel(sigma)\n",
    "    betas = solve_wolf(cluster, k, c)\n",
    "    radius, d = squared_radius_and_distance(cluster, betas, k, 1)\n",
    "    print(d(iris_values_2d[148]))\n",
    "    print radius\n",
    "    rndsample = g(n)\n",
    "    max_distance = np.max(map(d, rndsample))\n",
    "    print max_distance\n",
    "    \n",
    "    def estimated_membership_function(point):\n",
    "        p_distance = d(point)\n",
    "        if p_distance >= max_distance:\n",
    "            return 0\n",
    "        if p_distance <= radius:\n",
    "            return 1\n",
    "        \n",
    "        return 1-((p_distance-radius)/(max_distance-radius))\n",
    "    \n",
    "    return estimated_membership_function"
   ]
  }
 ],
 "metadata": {
  "kernelspec": {
   "display_name": "Python 2",
   "language": "python",
   "name": "python2"
  },
  "language_info": {
   "codemirror_mode": {
    "name": "ipython",
    "version": 2
   },
   "file_extension": ".py",
   "mimetype": "text/x-python",
   "name": "python",
   "nbconvert_exporter": "python",
   "pygments_lexer": "ipython2",
   "version": "2.7.14"
  }
 },
 "nbformat": 4,
 "nbformat_minor": 2
}
