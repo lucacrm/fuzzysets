{
 "cells": [
  {
   "cell_type": "code",
   "execution_count": 1,
   "metadata": {},
   "outputs": [],
   "source": [
    "import numpy as np\n",
    "import matplotlib.cm as cm\n",
    "import pandas as pd\n",
    "from possibilearn.kernel import GaussianKernel\n",
    "import math\n",
    "import itertools as it\n",
    "import gurobipy as gpy\n",
    "\n",
    "source = 'https://archive.ics.uci.edu/ml/machine-learning-databases/iris/iris.data'\n",
    "\n",
    "iris_df = pd.read_csv(\n",
    "    filepath_or_buffer=source,\n",
    "    header=None,\n",
    "    sep=',')\n",
    "\n",
    "iris_df.columns=['sepal_len', 'sepal_wid', 'petal_len', 'petal_wid', 'class']\n",
    "iris_df.dropna(how=\"all\", inplace=True) # drops the empty line at file-end\n",
    "\n",
    "iris_values = iris_df.iloc[:,:4].values #array dei soli valori\n",
    "iris_labels = iris_df.iloc[:,4].values #array delle etichette"
   ]
  },
  {
   "cell_type": "code",
   "execution_count": 2,
   "metadata": {},
   "outputs": [],
   "source": [
    "from sklearn.decomposition import PCA\n",
    "from sklearn.preprocessing import StandardScaler\n",
    "\n",
    "iris_values_std = StandardScaler().fit_transform(iris_values)\n",
    "\n",
    "pca_2d = PCA(n_components=2)\n",
    "iris_values_2d = pca_2d.fit_transform(iris_values_std)\n",
    "\n",
    "pca_3d = PCA(n_components=3)\n",
    "iris_values_3d = pca_3d.fit_transform(iris_values_std)\n",
    "\n",
    "pca_4d = PCA(n_components=4)\n",
    "iris_values_4d = pca_4d.fit_transform(iris_values_std)\n",
    "\n",
    "# print iris_values_2d"
   ]
  },
  {
   "cell_type": "code",
   "execution_count": 3,
   "metadata": {},
   "outputs": [
    {
     "data": {
      "image/png": "[encoded data removed]",
      "text/plain": [
       "<matplotlib.figure.Figure at 0x10bde2590>"
      ]
     },
     "metadata": {},
     "output_type": "display_data"
    }
   ],
   "source": [
    "%matplotlib inline\n",
    "import matplotlib.pyplot as plt\n",
    "\n",
    "iris_values_2d = np.array(iris_values_2d)\n",
    "\n",
    "fig, axs = plt.subplots(1, 2,\n",
    "sharey=True, figsize=(15, 4))\n",
    "fig.subplots_adjust(wspace=0.2)\n",
    "\n",
    "axs[0].scatter(iris_values_2d[:,0],iris_values_2d[:,1]) #grafico di tutti i punti, senza appartenenza\n",
    "axs[0].set_xlim(-4,4)\n",
    "\n",
    "for lab, col in zip(('Iris-setosa', 'Iris-versicolor', 'Iris-virginica'), #grafico con appartenenza\n",
    "                        ('blue', 'green', 'red')):\n",
    "        axs[1].scatter(iris_values_2d[iris_labels==lab, 0],\n",
    "                    iris_values_2d[iris_labels==lab, 1],\n",
    "                    label=lab,\n",
    "                    c=col)\n",
    "axs[1].set_xlim(-4,4)        \n",
    "\n",
    "plt.show()"
   ]
  },
  {
   "cell_type": "code",
   "execution_count": 4,
   "metadata": {
    "scrolled": true
   },
   "outputs": [
    {
     "data": {
      "text/plain": [
       "0.011111111111111112"
      ]
     },
     "execution_count": 4,
     "metadata": {},
     "output_type": "execute_result"
    }
   ],
   "source": [
    "def chop(x, minimum, maximum, tolerance=1e-4):\n",
    "    '''Chops a number when it is sufficiently close to the extreme of\n",
    "   an enclosing interval.\n",
    "\n",
    "Arguments:\n",
    "\n",
    "- x: number to be possibily chopped\n",
    "- minimum: left extreme of the interval containing x\n",
    "- maximum: right extreme of the interval containing x\n",
    "- tolerance: maximum distance in order to chop x\n",
    "\n",
    "Returns: x if it is farther than tolerance by both minimum and maximum;\n",
    "         minimum if x is closer than tolerance to minimum\n",
    "         maximum if x is closer than tolerance to maximum\n",
    "\n",
    "Throws:\n",
    "\n",
    "- ValueError if minimum > maximum or if x does not belong to [minimum, maximum]\n",
    "\n",
    "'''\n",
    "    if minimum > maximum:\n",
    "        raise ValueError('Chop: interval extremes not sorted')\n",
    "    if  x < minimum or x > maximum:\n",
    "        raise ValueError('Chop: value not belonging to interval')\n",
    "\n",
    "    if x - minimum < tolerance:\n",
    "        x = 0\n",
    "    if maximum - x < tolerance:\n",
    "        x = maximum\n",
    "    return x\n",
    "\n",
    "def solve_wolf(x, k, c):\n",
    "    '''\n",
    "    Solves the dual optimization problem on the basis of SV clustering\n",
    "\n",
    "    - x: array containing data to be clustered\n",
    "    - k: kernel function to be used\n",
    "    - c: trade-off parameter\n",
    "    '''\n",
    "\n",
    "    n=len(x)\n",
    "    # p = 1.0 / (n*c)    \n",
    "    \n",
    "    model = gpy.Model('Wolf')\n",
    "    model.setParam('OutputFlag', 0)\n",
    "\n",
    "    for i in range(n):\n",
    "        model.addVar(name=\"beta_%d\" %i, lb=0, ub=c, vtype=gpy.GRB.CONTINUOUS)\n",
    "\n",
    "    model.update()\n",
    "    b = model.getVars()\n",
    "\n",
    "    # obj == - SVC(11) \n",
    "    obj = gpy.QuadExpr()\n",
    "    for i, j in it.product(range(n), range(n)):\n",
    "        obj.add( b[i] * b[j], k.compute(x[i], x[j]))\n",
    "    \n",
    "    for i in range(n):\n",
    "        obj.add( -1 * b[i] * k.compute(x[i], x[i]))\n",
    "    \n",
    "    model.setObjective(obj, gpy.GRB.MINIMIZE) #minimizzo -SVC(11) anzichè massimizzare SVC(11)\n",
    "    \n",
    "    constEqual = gpy.LinExpr()\n",
    "    constEqual.add(sum(b), 1.0) # SVC(3)\n",
    "\n",
    "    model.addConstr(constEqual, gpy.GRB.EQUAL, 1)\n",
    "\n",
    "    model.optimize()\n",
    "\n",
    "    b_opt = [chop(v.x, 0, c, 2e-3) for v in model.getVars()]\n",
    "    \n",
    "    return b_opt\n",
    "\n",
    "q = 6.0\n",
    "sigma = (1.0/(2*q))**0.5\n",
    "k = GaussianKernel(sigma)\n",
    "p = 0.6\n",
    "c = 1.0/(len(iris_values_2d) * p)\n",
    "beta_opt_2d = solve_wolf(iris_values_2d, k, c)\n",
    "#beta_opt_3d = solve_wolf(iris_values_3d,7,0.7)\n",
    "#beta_opt_4d = solve_wolf(iris_values_4d,9,0.75)\n",
    "c"
   ]
  },
  {
   "cell_type": "code",
   "execution_count": 5,
   "metadata": {},
   "outputs": [
    {
     "data": {
      "image/png": "[encoded data removed]",
      "text/plain": [
       "<matplotlib.figure.Figure at 0x1a15703cd0>"
      ]
     },
     "metadata": {},
     "output_type": "display_data"
    },
    {
     "name": "stdout",
     "output_type": "stream",
     "text": [
      "SV are 18\n"
     ]
    }
   ],
   "source": [
    "n_sv = 0\n",
    "n_bsv = 0\n",
    "index_bsv = []\n",
    "index_sv = []\n",
    "index_v = []\n",
    "for i in range(len(iris_values_2d)):\n",
    "    if 0 < beta_opt_2d[i] < c:\n",
    "        plt.plot(iris_values_2d[i][0],iris_values_2d[i][1],'bo')\n",
    "        n_sv = n_sv + 1\n",
    "        index_sv.append(i)\n",
    "    elif beta_opt_2d[i] == c:\n",
    "        plt.plot(iris_values_2d[i][0],iris_values_2d[i][1],'ro')\n",
    "        index_bsv.append(i)\n",
    "    else:\n",
    "        plt.plot(iris_values_2d[i][0],iris_values_2d[i][1],'go')\n",
    "        index_v.append(i)\n",
    "\n",
    "plt.show()\n",
    "print \"SV are %d\" %n_sv"
   ]
  },
  {
   "cell_type": "code",
   "execution_count": 6,
   "metadata": {},
   "outputs": [
    {
     "name": "stdout",
     "output_type": "stream",
     "text": [
      "radius: 0.985055\n"
     ]
    }
   ],
   "source": [
    "def distance_from_center(x_new, x, b_opt, k, gram_term):\n",
    "    '''\n",
    "    Computes the squared distance between the image of a point and the center of the found sphere\n",
    "    \n",
    "    - x_new: starting point\n",
    "    - x: array of points to be clustered\n",
    "    - b_opt: optimal value of variables in the Wolfe dual problem\n",
    "    - k: kernel function\n",
    "    - gram_term: common addend based on the Gram matrix\n",
    "    '''\n",
    "    \n",
    "    d1 = k.compute(x_new, x_new)\n",
    "    d2 = np.array([k.compute(x_i, x_new) for x_i in x]).dot(b_opt)\n",
    "    d = d1 - 2 * d2 + gram_term\n",
    "    return d\n",
    "\n",
    "def squared_radius_and_distance(x, b_opt, k, c):\n",
    "    '''\n",
    "    Computes the squared squared radius of the found sphere and a function returning\n",
    "    the squared distance between the image of a generic point and the sphere center\n",
    "    \n",
    "    - x: array of points to be clustered\n",
    "    - b_opt: optimal value of variables in the Wolfe dual problem\n",
    "    - k: kernel function\n",
    "    - c: trade-off parameter\n",
    "    \n",
    "    Returns (r, d), where\n",
    "    \n",
    "    - r is the squared radius\n",
    "    - d is the function computing the squared distance\n",
    "    '''\n",
    "    \n",
    "    x_sv = [b for b in b_opt if 0 < b < c]\n",
    "    gram = np.array(np.array([[k.compute(x1, x2) for x1 in x] for x2 in x]))\n",
    "    gram_term = np.array(b_opt).dot(gram.dot(b_opt))\n",
    "    d = lambda x_new: distance_from_center(x_new, x, b_opt, k, gram_term)\n",
    "    r = [d(sv) for sv in x_sv]\n",
    "    if len(r) == 0:\n",
    "        return None\n",
    "    \n",
    "    return (np.mean(r), d)\n",
    "\n",
    "\n",
    "\n",
    "radius, d = squared_radius_and_distance(iris_values_2d, beta_opt_2d, k, c)\n",
    "\n",
    "print \"radius: %f\" % radius"
   ]
  },
  {
   "cell_type": "code",
   "execution_count": 7,
   "metadata": {},
   "outputs": [],
   "source": [
    "def check_couple(x_start, x_end, radius, d, discretization_size=20):\n",
    "    x_start = np.array(x_start)\n",
    "    x_end = np.array(x_end)\n",
    "    discretization = np.arange(0., 1+1./discretization_size, 1./discretization_size)\n",
    "    for x_between in [alpha*x_start + (1-alpha)*x_end for alpha in discretization]:\n",
    "        if d(x_between) > radius:\n",
    "            return 0\n",
    "    return 1"
   ]
  },
  {
   "cell_type": "code",
   "execution_count": 8,
   "metadata": {},
   "outputs": [],
   "source": [
    "def check_couple_and_print(x_start, x_end, radius, d, discretization_size=20):\n",
    "    x_start = np.array(x_start)\n",
    "    x_end = np.array(x_end)\n",
    "    discretization = np.arange(0., 1+1./discretization_size, 1./discretization_size)\n",
    "    for x_between in [alpha*x_start + (1-alpha)*x_end for alpha in discretization]:\n",
    "        plt.plot(x_between[0],x_between[1],'o')"
   ]
  },
  {
   "cell_type": "code",
   "execution_count": 9,
   "metadata": {},
   "outputs": [],
   "source": [
    "def get_clusters_opt(x, radius, d):\n",
    "    \n",
    "    '''\n",
    "    Build clusters for the points in x by the optimized method\n",
    "    \n",
    "    - x: array of points to be clustered\n",
    "    - radius: radius of the sphere\n",
    "    - d: function computing the squared distance between two points\n",
    "    '''\n",
    "    \n",
    "    cl_id = 0\n",
    "    D = {}\n",
    "    l = [list(p) for p in x]\n",
    "    while l != []:\n",
    "        current = l.pop(0)\n",
    "        D[cl_id] = [ np.where(x == current)[0][0] ]\n",
    "        \n",
    "        for p in l:\n",
    "            if check_couple(current, p, radius, d) == 1:\n",
    "                l.remove(p)\n",
    "                D[cl_id] += [ np.where( x == p)[0][0] ]\n",
    "                \n",
    "        cl_id = cl_id +1\n",
    "    \n",
    "    return D\n",
    "    \n",
    "    "
   ]
  },
  {
   "cell_type": "code",
   "execution_count": 10,
   "metadata": {},
   "outputs": [
    {
     "data": {
      "text/plain": [
       "{0: [0,\n",
       "  1,\n",
       "  3,\n",
       "  5,\n",
       "  7,\n",
       "  9,\n",
       "  11,\n",
       "  13,\n",
       "  16,\n",
       "  18,\n",
       "  20,\n",
       "  23,\n",
       "  25,\n",
       "  27,\n",
       "  29,\n",
       "  31,\n",
       "  9,\n",
       "  36,\n",
       "  38,\n",
       "  40,\n",
       "  42,\n",
       "  44,\n",
       "  46,\n",
       "  48],\n",
       " 1: [2, 4, 8, 12, 17, 21, 24, 28, 35, 39, 43, 47],\n",
       " 2: [6, 10, 19, 26, 9, 45],\n",
       " 3: [14, 30, 49],\n",
       " 4: [15],\n",
       " 5: [22],\n",
       " 6: [32],\n",
       " 7: [33],\n",
       " 8: [41],\n",
       " 9: [50,\n",
       "  51,\n",
       "  53,\n",
       "  55,\n",
       "  57,\n",
       "  59,\n",
       "  61,\n",
       "  63,\n",
       "  65,\n",
       "  67,\n",
       "  69,\n",
       "  71,\n",
       "  73,\n",
       "  75,\n",
       "  77,\n",
       "  79,\n",
       "  81,\n",
       "  83,\n",
       "  86,\n",
       "  88,\n",
       "  90,\n",
       "  92,\n",
       "  94,\n",
       "  96,\n",
       "  99,\n",
       "  101,\n",
       "  103,\n",
       "  105,\n",
       "  107,\n",
       "  110,\n",
       "  112,\n",
       "  114,\n",
       "  116,\n",
       "  119,\n",
       "  121,\n",
       "  123,\n",
       "  125,\n",
       "  127,\n",
       "  129,\n",
       "  132,\n",
       "  134,\n",
       "  136,\n",
       "  138,\n",
       "  140,\n",
       "  101,\n",
       "  144,\n",
       "  146,\n",
       "  148],\n",
       " 10: [52,\n",
       "  54,\n",
       "  58,\n",
       "  64,\n",
       "  68,\n",
       "  72,\n",
       "  76,\n",
       "  80,\n",
       "  84,\n",
       "  87,\n",
       "  91,\n",
       "  95,\n",
       "  100,\n",
       "  104,\n",
       "  111,\n",
       "  115,\n",
       "  120,\n",
       "  124,\n",
       "  128,\n",
       "  133,\n",
       "  137,\n",
       "  141,\n",
       "  145,\n",
       "  149],\n",
       " 11: [56, 62, 70, 78, 89, 97, 102, 113, 126, 135, 143],\n",
       " 12: [60],\n",
       " 13: [66, 74, 106, 130, 139],\n",
       " 14: [82, 147],\n",
       " 15: [85],\n",
       " 16: [93],\n",
       " 17: [98],\n",
       " 18: [108],\n",
       " 19: [109],\n",
       " 20: [117],\n",
       " 21: [118],\n",
       " 22: [122],\n",
       " 23: [131]}"
      ]
     },
     "execution_count": 10,
     "metadata": {},
     "output_type": "execute_result"
    }
   ],
   "source": [
    "get_clusters_opt(iris_values_2d, radius, d)"
   ]
  },
  {
   "cell_type": "code",
   "execution_count": 11,
   "metadata": {},
   "outputs": [],
   "source": [
    "# I cluster sono componenti connesse del grafo con matrice di adiacenza calcolata \n",
    "# per ogni coppia con check_couple\n",
    "#\n",
    "# 0 --> 1 --> 2 \n",
    "# Estraggo dalla lista 1, con check_couple trovo che 0 e 1 sono connessi, quindi estraggo 1 dalla lista, quindi\n",
    "# successivamente non lo controllerò con 2. perdo il collegamento tra 1 e 2\n",
    "#\n",
    "# Potrei fare altre passate e fondere due cluster appena trovo una coppia connessa. Quando terminare le passate?"
   ]
  },
  {
   "cell_type": "code",
   "execution_count": 12,
   "metadata": {},
   "outputs": [
    {
     "data": {
      "text/plain": [
       "1"
      ]
     },
     "execution_count": 12,
     "metadata": {},
     "output_type": "execute_result"
    }
   ],
   "source": [
    "check_couple(iris_values_2d[1], iris_values_2d[2], radius, d )"
   ]
  },
  {
   "cell_type": "code",
   "execution_count": 13,
   "metadata": {},
   "outputs": [
    {
     "name": "stdout",
     "output_type": "stream",
     "text": [
      "[-2.0864255  -0.65540473]\n",
      "[-2.26454173  0.5057039 ]\n"
     ]
    },
    {
     "data": {
      "image/png": "[encoded data removed]",
      "text/plain": [
       "<matplotlib.figure.Figure at 0x1a1570f350>"
      ]
     },
     "metadata": {},
     "output_type": "display_data"
    }
   ],
   "source": [
    "check_couple_and_print(iris_values_2d[1], iris_values_2d[2], radius, d )\n",
    "print iris_values_2d[1]\n",
    "print iris_values_2d[0]"
   ]
  },
  {
   "cell_type": "code",
   "execution_count": 14,
   "metadata": {},
   "outputs": [
    {
     "data": {
      "image/png": "[encoded data removed]",
      "text/plain": [
       "<matplotlib.figure.Figure at 0x1a159e7990>"
      ]
     },
     "metadata": {},
     "output_type": "display_data"
    }
   ],
   "source": [
    "check_couple_and_print([0,0], [1,2], radius, d )"
   ]
  },
  {
   "cell_type": "code",
   "execution_count": 15,
   "metadata": {},
   "outputs": [
    {
     "data": {
      "text/plain": [
       "[<matplotlib.lines.Line2D at 0x1a159ddad0>]"
      ]
     },
     "execution_count": 15,
     "metadata": {},
     "output_type": "execute_result"
    },
    {
     "data": {
      "image/png": "[encoded data removed]",
      "text/plain": [
       "<matplotlib.figure.Figure at 0x1a159dd9d0>"
      ]
     },
     "metadata": {},
     "output_type": "display_data"
    }
   ],
   "source": [
    "check_couple_and_print([-2.05,-3.75], [-2.15,0.55], radius, d )\n",
    "plt.plot([-3,1], [-3,1])"
   ]
  },
  {
   "cell_type": "code",
   "execution_count": 16,
   "metadata": {},
   "outputs": [
    {
     "data": {
      "text/plain": [
       "'\\ndef get_clusters_rev(x, radius, d):\\n    \\n    cl_id = 0\\n    D = {}\\n    l = ([list(p) for p in x])\\n    l.reverse()\\n    while l != []:\\n        current = l.pop(0)\\n        D[cl_id] = [ np.where(x == current)[0][0] ]\\n        \\n        for p in l:\\n            if check_couple(current, p, radius, d) == 1:\\n                l.remove(p)\\n                D[cl_id] += [ np.where( x == p)[0][0] ]\\n                \\n        cl_id = cl_id +1\\n    \\n    return D\\n'"
      ]
     },
     "execution_count": 16,
     "metadata": {},
     "output_type": "execute_result"
    }
   ],
   "source": [
    "'''\n",
    "def get_clusters_rev(x, radius, d):\n",
    "    \n",
    "    cl_id = 0\n",
    "    D = {}\n",
    "    l = ([list(p) for p in x])\n",
    "    l.reverse()\n",
    "    while l != []:\n",
    "        current = l.pop(0)\n",
    "        D[cl_id] = [ np.where(x == current)[0][0] ]\n",
    "        \n",
    "        for p in l:\n",
    "            if check_couple(current, p, radius, d) == 1:\n",
    "                l.remove(p)\n",
    "                D[cl_id] += [ np.where( x == p)[0][0] ]\n",
    "                \n",
    "        cl_id = cl_id +1\n",
    "    \n",
    "    return D\n",
    "'''"
   ]
  },
  {
   "cell_type": "code",
   "execution_count": 17,
   "metadata": {},
   "outputs": [],
   "source": [
    "#get_clusters_rev(iris_values_2d, radius, d)"
   ]
  },
  {
   "cell_type": "code",
   "execution_count": 18,
   "metadata": {},
   "outputs": [],
   "source": [
    "# Le connessioni che perdo dipendondo dall'ordine con cui considero i punti."
   ]
  },
  {
   "cell_type": "code",
   "execution_count": 19,
   "metadata": {},
   "outputs": [],
   "source": [
    "def build_clusters(x, index_v, index_sv, radius, d):\n",
    "    \n",
    "    '''\n",
    "    Build clusters as connected component of the graph which its nodes are the non-BSV points in the \n",
    "    dataset. There is an edge between nodes i and j if for all points in the segment connecting i and j the\n",
    "    squared distance from the center of the sphere is < radius\n",
    "    \n",
    "    - x: array of points to be clustered\n",
    "    - index_v: list/array of the indexes of the non-BSV and non-SV points\n",
    "    - index_sv: list/array of the indexes of the support vectors\n",
    "    - radius: radius of the sphere\n",
    "    - d: function computing the squared distance between two points\n",
    "    '''\n",
    "    import networkx as nx\n",
    "    \n",
    "    G = nx.Graph()\n",
    "    G.add_nodes_from(index_v)\n",
    "    G.add_nodes_from(index_sv)\n",
    "    \n",
    "    couples = [[i,j] for i in index_v for j in index_sv]\n",
    "    \n",
    "    for c in couples:\n",
    "        if check_couple(x[c[0]], x[c[1]], radius, d):\n",
    "            G.add_edge(c[0],c[1])\n",
    "            \n",
    "    return [list(c) for c in list(nx.connected_components(G))]"
   ]
  },
  {
   "cell_type": "code",
   "execution_count": 20,
   "metadata": {},
   "outputs": [
    {
     "data": {
      "text/plain": [
       "[[0,\n",
       "  1,\n",
       "  2,\n",
       "  3,\n",
       "  7,\n",
       "  9,\n",
       "  10,\n",
       "  12,\n",
       "  17,\n",
       "  21,\n",
       "  24,\n",
       "  26,\n",
       "  27,\n",
       "  28,\n",
       "  29,\n",
       "  30,\n",
       "  34,\n",
       "  37,\n",
       "  39,\n",
       "  40,\n",
       "  43,\n",
       "  44,\n",
       "  48,\n",
       "  49],\n",
       " [129,\n",
       "  133,\n",
       "  134,\n",
       "  137,\n",
       "  138,\n",
       "  139,\n",
       "  140,\n",
       "  141,\n",
       "  142,\n",
       "  143,\n",
       "  145,\n",
       "  147,\n",
       "  149,\n",
       "  54,\n",
       "  58,\n",
       "  63,\n",
       "  65,\n",
       "  66,\n",
       "  67,\n",
       "  69,\n",
       "  71,\n",
       "  74,\n",
       "  75,\n",
       "  78,\n",
       "  80,\n",
       "  82,\n",
       "  84,\n",
       "  86,\n",
       "  89,\n",
       "  90,\n",
       "  94,\n",
       "  96,\n",
       "  97,\n",
       "  99,\n",
       "  100,\n",
       "  101,\n",
       "  103,\n",
       "  110,\n",
       "  112,\n",
       "  114,\n",
       "  115,\n",
       "  116,\n",
       "  123,\n",
       "  124,\n",
       "  126]]"
      ]
     },
     "execution_count": 20,
     "metadata": {},
     "output_type": "execute_result"
    }
   ],
   "source": [
    "build_clusters(iris_values_2d, index_v, index_sv, radius, d)"
   ]
  }
 ],
 "metadata": {
  "kernelspec": {
   "display_name": "Python 2",
   "language": "python",
   "name": "python2"
  },
  "language_info": {
   "codemirror_mode": {
    "name": "ipython",
    "version": 2
   },
   "file_extension": ".py",
   "mimetype": "text/x-python",
   "name": "python",
   "nbconvert_exporter": "python",
   "pygments_lexer": "ipython2",
   "version": "2.7.14"
  }
 },
 "nbformat": 4,
 "nbformat_minor": 2
}
