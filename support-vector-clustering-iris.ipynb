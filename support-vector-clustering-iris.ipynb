{
 "cells": [
  {
   "cell_type": "code",
   "execution_count": 1,
   "metadata": {},
   "outputs": [],
   "source": [
    "import numpy as np\n",
    "import matplotlib.cm as cm\n",
    "import pandas as pd\n",
    "from possibilearn.kernel import GaussianKernel\n",
    "import math\n",
    "import itertools as it\n",
    "import gurobipy as gpy\n",
    "\n",
    "source = 'https://archive.ics.uci.edu/ml/machine-learning-databases/iris/iris.data'\n",
    "\n",
    "iris_df = pd.read_csv(\n",
    "    filepath_or_buffer=source,\n",
    "    header=None,\n",
    "    sep=',')\n",
    "\n",
    "iris_df.columns=['sepal_len', 'sepal_wid', 'petal_len', 'petal_wid', 'class']\n",
    "iris_df.dropna(how=\"all\", inplace=True) # drops the empty line at file-end\n",
    "\n",
    "iris_values = iris_df.iloc[:,:4].values #array dei soli valori\n",
    "iris_labels = iris_df.iloc[:,4].values #array delle etichette"
   ]
  },
  {
   "cell_type": "code",
   "execution_count": 2,
   "metadata": {},
   "outputs": [],
   "source": [
    "from sklearn.decomposition import PCA\n",
    "from sklearn.preprocessing import StandardScaler\n",
    "\n",
    "iris_values_std = StandardScaler().fit_transform(iris_values)\n",
    "\n",
    "pca_2d = PCA(n_components=2)\n",
    "iris_values_2d = pca_2d.fit_transform(iris_values_std)\n",
    "\n",
    "pca_3d = PCA(n_components=3)\n",
    "iris_values_3d = pca_3d.fit_transform(iris_values_std)\n",
    "\n",
    "pca_4d = PCA(n_components=4)\n",
    "iris_values_4d = pca_4d.fit_transform(iris_values_std)\n",
    "\n",
    "# print iris_values_2d"
   ]
  },
  {
   "cell_type": "code",
   "execution_count": 3,
   "metadata": {},
   "outputs": [
    {
     "data": {
      "image/png": "[encoded data removed]",
      "text/plain": [
       "<matplotlib.figure.Figure at 0x1f12663f90>"
      ]
     },
     "metadata": {},
     "output_type": "display_data"
    }
   ],
   "source": [
    "%matplotlib inline\n",
    "import matplotlib.pyplot as plt\n",
    "\n",
    "iris_values_2d = np.array(iris_values_2d)\n",
    "\n",
    "fig, axs = plt.subplots(1, 2,\n",
    "sharey=True, figsize=(15, 4))\n",
    "fig.subplots_adjust(wspace=0.2)\n",
    "\n",
    "axs[0].scatter(iris_values_2d[:,0],iris_values_2d[:,1]) #grafico di tutti i punti, senza appartenenza\n",
    "axs[0].set_xlim(-4,4)\n",
    "\n",
    "for lab, col in zip(('Iris-setosa', 'Iris-versicolor', 'Iris-virginica'), #grafico con appartenenza\n",
    "                        ('blue', 'green', 'red')):\n",
    "        axs[1].scatter(iris_values_2d[iris_labels==lab, 0],\n",
    "                    iris_values_2d[iris_labels==lab, 1],\n",
    "                    label=lab,\n",
    "                    c=col)\n",
    "axs[1].set_xlim(-4,4)        \n",
    "\n",
    "plt.show()"
   ]
  },
  {
   "cell_type": "code",
   "execution_count": 4,
   "metadata": {
    "scrolled": true
   },
   "outputs": [
    {
     "name": "stdout",
     "output_type": "stream",
     "text": [
      "c is 0.011111\n"
     ]
    }
   ],
   "source": [
    "def chop(x, minimum, maximum, tolerance=1e-4):\n",
    "    '''Chops a number when it is sufficiently close to the extreme of\n",
    "   an enclosing interval.\n",
    "\n",
    "Arguments:\n",
    "\n",
    "- x: number to be possibily chopped\n",
    "- minimum: left extreme of the interval containing x\n",
    "- maximum: right extreme of the interval containing x\n",
    "- tolerance: maximum distance in order to chop x\n",
    "\n",
    "Returns: x if it is farther than tolerance by both minimum and maximum;\n",
    "         minimum if x is closer than tolerance to minimum\n",
    "         maximum if x is closer than tolerance to maximum\n",
    "\n",
    "Throws:\n",
    "\n",
    "- ValueError if minimum > maximum or if x does not belong to [minimum, maximum]\n",
    "\n",
    "'''\n",
    "    if minimum > maximum:\n",
    "        raise ValueError('Chop: interval extremes not sorted')\n",
    "    if  x < minimum or x > maximum:\n",
    "        raise ValueError('Chop: value not belonging to interval')\n",
    "\n",
    "    if x - minimum < tolerance:\n",
    "        x = 0\n",
    "    if maximum - x < tolerance:\n",
    "        x = maximum\n",
    "    return x\n",
    "\n",
    "def solve_wolf(x, k, c):\n",
    "    '''\n",
    "    Solves the dual optimization problem on the basis of SV clustering\n",
    "\n",
    "    - x: array containing data to be clustered\n",
    "    - k: kernel function to be used\n",
    "    - c: trade-off parameter\n",
    "    '''\n",
    "\n",
    "    n=len(x)\n",
    "    # p = 1.0 / (n*c)    \n",
    "    print \"c is %f\" %c\n",
    "\n",
    "    model = gpy.Model('Wolf')\n",
    "    model.setParam('OutputFlag', 0)\n",
    "\n",
    "    for i in range(n):\n",
    "        model.addVar(name=\"beta_%d\" %i, lb=-0, ub=c, vtype=gpy.GRB.CONTINUOUS)\n",
    "\n",
    "    model.update()\n",
    "    b = model.getVars()\n",
    "\n",
    "    # obj == - SVC(11) \n",
    "    obj = gpy.QuadExpr()\n",
    "    for i, j in it.product(range(n), range(n)):\n",
    "        obj.add( b[i] * b[j], k.compute(x[i], x[j]))\n",
    "    \n",
    "    for i in range(n):\n",
    "        obj.add( -1 * b[i] * k.compute(x[i], x[i]))\n",
    "    \n",
    "    model.setObjective(obj, gpy.GRB.MINIMIZE) #minimizzo -SVC(11) anzichè massimizzare SVC(11)\n",
    "    \n",
    "    constEqual = gpy.LinExpr()\n",
    "    constEqual.add(sum(b), 1.0) # SVC(3)\n",
    "\n",
    "    model.addConstr(constEqual, gpy.GRB.EQUAL, 1)\n",
    "\n",
    "    model.optimize()\n",
    "\n",
    "    b_opt = [chop(v.x, 0, c) for v in model.getVars()]\n",
    "    \n",
    "    return b_opt\n",
    "\n",
    "q = 6\n",
    "sigma = (1.0/(2*q))**0.5\n",
    "k = GaussianKernel(sigma)\n",
    "p = 0.6\n",
    "c = 1.0/(len(iris_values_2d) * p)\n",
    "beta_opt_2d = solve_wolf(iris_values_2d, k, c)\n",
    "#beta_opt_3d = solve_wolf(iris_values_3d,7,0.7)\n",
    "#beta_opt_4d = solve_wolf(iris_values_4d,9,0.75)"
   ]
  },
  {
   "cell_type": "code",
   "execution_count": 5,
   "metadata": {},
   "outputs": [
    {
     "data": {
      "image/png": "[encoded data removed]",
      "text/plain": [
       "<matplotlib.figure.Figure at 0x1f154732d0>"
      ]
     },
     "metadata": {},
     "output_type": "display_data"
    },
    {
     "name": "stdout",
     "output_type": "stream",
     "text": [
      "SV are 32\n"
     ]
    }
   ],
   "source": [
    "count=0\n",
    "for i in range(len(iris_values_2d)):\n",
    "    if 0 < beta_opt_2d[i] < c:\n",
    "        plt.plot(iris_values_2d[i][0],iris_values_2d[i][1],'bo')\n",
    "        count=count + 1\n",
    "    else:\n",
    "        plt.plot(iris_values_2d[i][0],iris_values_2d[i][1],'go')\n",
    "\n",
    "plt.show()\n",
    "print \"SV are %d\" %count"
   ]
  },
  {
   "cell_type": "code",
   "execution_count": 6,
   "metadata": {},
   "outputs": [
    {
     "name": "stdout",
     "output_type": "stream",
     "text": [
      "raggio della sfera: 0.984598\n"
     ]
    }
   ],
   "source": [
    "def distance_from_center(x_new, x, b_opt, k, gram_term):\n",
    "    '''\n",
    "    Computes the squared distance between the image of a point and the center of the found sphere\n",
    "    \n",
    "    - x_new: starting point\n",
    "    - x: array of points to be clustered\n",
    "    - b_opt: optimal value of variables in the Wolfe dual problem\n",
    "    - k: kernel function\n",
    "    - gram_term: common addend based on the Gram matrix\n",
    "    '''\n",
    "    \n",
    "    d1 = k.compute(x_new, x_new)\n",
    "    d2 = np.array([k.compute(x_i, x_new) for x_i in x]).dot(b_opt)\n",
    "    d = d1 - 2 * d2 + gram_term\n",
    "    return d\n",
    "\n",
    "def squared_radius_and_distance(x, b_opt, k, c):\n",
    "    '''\n",
    "    Computes the squared squared radius of the found sphere and a function returning\n",
    "    the squared distance between the image of a generic point and the sphere center\n",
    "    \n",
    "    - x: array of points to be clustered\n",
    "    - b_opt: optimal value of variables in the Wolfe dual problem\n",
    "    - k: kernel function\n",
    "    - c: trade-off parameter\n",
    "    \n",
    "    Returns (r, d), where\n",
    "    \n",
    "    - r is the squared radius\n",
    "    - d is the function computing the squared distance\n",
    "    '''\n",
    "    \n",
    "    x_sv = [b for b in b_opt if 0 < b < c]\n",
    "    gram = np.array(np.array([[k.compute(x1, x2) for x1 in x] for x2 in x]))\n",
    "    gram_term = np.array(b_opt).dot(gram.dot(b_opt))\n",
    "    d = lambda x_new: distance_from_center(x_new, x, b_opt, k, gram_term)\n",
    "    r = [d(sv) for sv in x_sv]\n",
    "    if len(r) == 0:\n",
    "        return None\n",
    "    \n",
    "    return (np.mean(r), d)\n",
    "\n",
    "\n",
    "\n",
    "\n",
    "radius, d = squared_radius_and_distance(iris_values_2d, beta_opt_2d, k, c)\n",
    "\n",
    "print \"raggio della sfera: %f\" % radius"
   ]
  },
  {
   "cell_type": "code",
   "execution_count": 7,
   "metadata": {},
   "outputs": [],
   "source": [
    "def check_couple(x_start, x_end, radius, d, discretization_size=20):\n",
    "    \n",
    "    discretization = np.arange(0., 1+1./discretization_size, 1./discretization_size)\n",
    "    for x_between in [alpha*x_start + (1-alpha)*x_end for alpha in discretization]:\n",
    "        if d(x_between) > radius:\n",
    "            return 0\n",
    "    return 1"
   ]
  },
  {
   "cell_type": "code",
   "execution_count": 13,
   "metadata": {},
   "outputs": [],
   "source": [
    "iris_test = np.vstack((iris_values_2d[:5], iris_values_2d[50:55], iris_values_2d[100:105]))"
   ]
  },
  {
   "cell_type": "code",
   "execution_count": 14,
   "metadata": {},
   "outputs": [
    {
     "data": {
      "text/plain": [
       "[[1, 1, 1, 1, 1, 0, 0, 0, 0, 0, 0, 0, 0, 0, 0],\n",
       " [1, 1, 1, 1, 1, 0, 0, 0, 0, 0, 0, 0, 0, 0, 0],\n",
       " [1, 1, 1, 1, 1, 0, 0, 0, 0, 0, 0, 0, 0, 0, 0],\n",
       " [1, 1, 1, 1, 1, 0, 0, 0, 0, 0, 0, 0, 0, 0, 0],\n",
       " [1, 1, 1, 1, 1, 0, 0, 0, 0, 0, 0, 0, 0, 0, 0],\n",
       " [0, 0, 0, 0, 0, 1, 1, 1, 1, 1, 1, 1, 1, 1, 1],\n",
       " [0, 0, 0, 0, 0, 1, 1, 1, 1, 1, 1, 1, 1, 1, 1],\n",
       " [0, 0, 0, 0, 0, 1, 1, 1, 1, 1, 1, 1, 1, 1, 1],\n",
       " [0, 0, 0, 0, 0, 1, 1, 1, 1, 0, 0, 0, 0, 0, 0],\n",
       " [0, 0, 0, 0, 0, 1, 1, 1, 0, 1, 1, 1, 1, 1, 1],\n",
       " [0, 0, 0, 0, 0, 1, 1, 1, 0, 1, 1, 1, 1, 1, 1],\n",
       " [0, 0, 0, 0, 0, 1, 1, 1, 0, 1, 1, 1, 1, 1, 1],\n",
       " [0, 0, 0, 0, 0, 1, 1, 1, 0, 1, 1, 1, 1, 1, 1],\n",
       " [0, 0, 0, 0, 0, 1, 1, 1, 0, 1, 1, 1, 1, 1, 1],\n",
       " [0, 0, 0, 0, 0, 1, 1, 1, 0, 1, 1, 1, 1, 1, 1]]"
      ]
     },
     "execution_count": 14,
     "metadata": {},
     "output_type": "execute_result"
    }
   ],
   "source": [
    "[[check_couple(x_start, x_end, radius, d) for x_start in iris_test] for x_end in iris_test]"
   ]
  },
  {
   "cell_type": "code",
   "execution_count": 10,
   "metadata": {},
   "outputs": [],
   "source": [
    "def adjacency_matrix(x,beta,k,cl,cl_i,radius):\n",
    "    \n",
    "    couples = []\n",
    "    couples_i = []\n",
    "    i=0\n",
    "    while i < len(cl):\n",
    "        j=i+1\n",
    "        while j < len(cl):\n",
    "            couples.append([cl[i],cl[j]])\n",
    "            couples_i.append([cl_i[i],cl_i[j]])\n",
    "            j=j+1\n",
    "        i=i+1\n",
    "        \n",
    "    d3 = np.array(np.array([[k.compute(x1, x2) for x1 in x] for x2 in x]))\n",
    "    d3 = np.array(beta).dot(d3.dot(beta))\n",
    "        \n",
    "    def distance_from_center_2(x,p,fixed):\n",
    "        d1 = k.compute(p,p)\n",
    "        d2 = np.array([k.compute(x_i, p) for x_i in x]).dot(beta)\n",
    "        d = d1 - 2 * d2 + fixed\n",
    "        return d\n",
    "\n",
    "    def random_point_on_segment(p1,p2):\n",
    "        import random\n",
    "        x1,y1 = p1[0],p1[1]\n",
    "        x2,y2 = p2[0],p2[1]\n",
    "        if (x1-x2 != 0):\n",
    "            x = random.uniform(x1,x2)\n",
    "            return [x ,((x-x1)*(y2-y1)/(x2-x1) + y1)]\n",
    "        else:\n",
    "            return[x1,random.uniform(y1,y2)]\n",
    "\n",
    "    def same_cluster(p1,p2,np):\n",
    "        i=0\n",
    "        while i < np:\n",
    "            if distance_from_center_2(x,random_point_on_segment(p1,p2),d3) > radius:\n",
    "                return 0\n",
    "            i=i+1\n",
    "        return 1\n",
    "            \n",
    "    D = {}\n",
    "    for i in range(len(couples)):\n",
    "        D[ (couples_i[i][0],couples_i[i][1]) ] = same_cluster(couples[i][0],couples[i][1],20)\n",
    "        \n",
    "    return D\n",
    "        \n",
    "\n",
    "\n",
    "D = adjacency_matrix(iris_values_2d,beta_opt_2d,k,cl,cl_i,radius)"
   ]
  },
  {
   "cell_type": "code",
   "execution_count": 11,
   "metadata": {},
   "outputs": [
    {
     "data": {
      "text/plain": [
       "[{20,\n",
       "  23,\n",
       "  25,\n",
       "  26,\n",
       "  31,\n",
       "  36,\n",
       "  43,\n",
       "  50,\n",
       "  51,\n",
       "  52,\n",
       "  54,\n",
       "  55,\n",
       "  56,\n",
       "  58,\n",
       "  59,\n",
       "  61,\n",
       "  63,\n",
       "  64,\n",
       "  65,\n",
       "  66,\n",
       "  67,\n",
       "  69,\n",
       "  70,\n",
       "  71,\n",
       "  73,\n",
       "  74,\n",
       "  75,\n",
       "  76,\n",
       "  77,\n",
       "  78,\n",
       "  79,\n",
       "  80,\n",
       "  81,\n",
       "  82,\n",
       "  83,\n",
       "  84,\n",
       "  85,\n",
       "  86,\n",
       "  88,\n",
       "  89,\n",
       "  90,\n",
       "  91,\n",
       "  92,\n",
       "  94,\n",
       "  95,\n",
       "  96,\n",
       "  97,\n",
       "  98,\n",
       "  99,\n",
       "  101,\n",
       "  103,\n",
       "  110,\n",
       "  116,\n",
       "  121,\n",
       "  123,\n",
       "  126,\n",
       "  127,\n",
       "  133,\n",
       "  134,\n",
       "  137,\n",
       "  138,\n",
       "  142,\n",
       "  147,\n",
       "  149}]"
      ]
     },
     "execution_count": 11,
     "metadata": {},
     "output_type": "execute_result"
    }
   ],
   "source": [
    "import networkx as nx\n",
    "G=nx.Graph()\n",
    "G.add_nodes_from(cl_i)\n",
    "\n",
    "for x in D:\n",
    "    if D[x]==1:\n",
    "        G.add_edge(x[0],x[1])\n",
    "\n",
    "list(nx.connected_components(G))"
   ]
  }
 ],
 "metadata": {
  "kernelspec": {
   "display_name": "Python 2",
   "language": "python",
   "name": "python2"
  },
  "language_info": {
   "codemirror_mode": {
    "name": "ipython",
    "version": 2
   },
   "file_extension": ".py",
   "mimetype": "text/x-python",
   "name": "python",
   "nbconvert_exporter": "python",
   "pygments_lexer": "ipython2",
   "version": "2.7.10"
  }
 },
 "nbformat": 4,
 "nbformat_minor": 2
}
