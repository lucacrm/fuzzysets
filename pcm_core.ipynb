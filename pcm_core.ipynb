{
 "cells": [
  {
   "cell_type": "code",
   "execution_count": 1,
   "metadata": {},
   "outputs": [],
   "source": [
    "import numpy as np\n",
    "import pandas as pd\n",
    "import support_vector_fuzzifier as svf\n",
    "import math\n",
    "from possibilearn import GaussianKernel"
   ]
  },
  {
   "cell_type": "code",
   "execution_count": 2,
   "metadata": {},
   "outputs": [],
   "source": [
    "def get_eta(values, kernel, us, gamma):\n",
    "    \n",
    "    '''\n",
    "    calculates the parameter eta with (27) in Probabilistic C-Means\n",
    "    '''\n",
    "    \n",
    "    b = 1.0/sum(us)\n",
    "    \n",
    "    cp = zip(values,us)\n",
    "    gram_term = b * b * sum([ u1*u2*kernel.compute(x1,x2) for (x1,u1) in cp for x2,u2 in cp])\n",
    "    \n",
    "    kernel_term =[]\n",
    "    kernel_term2 = []\n",
    "    for i in range(len(us)):\n",
    "        kernel_term.append(kernel.compute(values[i], values[i]))\n",
    "        kernel_term2.append( 2.0*b* sum( [us[i]*kernel.compute(values[i],x) for x in values] ))\n",
    "                            \n",
    "    return gamma * b * sum([u*(k - k2 + gram_term) for (u,k,k2) in zip (us, kernel_term, kernel_term2)])\n",
    "        \n",
    "                            \n",
    "def update_us(values, kernel, us, eta):\n",
    "    \n",
    "    '''\n",
    "    return the updated u with (26) in Probabilistic C-Means\n",
    "    '''\n",
    "    \n",
    "    b = 1.0/sum(us)\n",
    "    \n",
    "    cp = zip(values,us)\n",
    "    gram_term = b * b * sum([u1*u2*kernel.compute(x1,x2) for (x1,u1) in cp for x2,u2 in cp])\n",
    "    \n",
    "    kernel_term =[]\n",
    "    kernel_term2 = []\n",
    "    for i in range(len(us)):\n",
    "        kernel_term.append(kernel.compute(values[i], values[i]))\n",
    "        kernel_term2.append( 2.0*b* sum( [us[i]*kernel.compute(values[i],x) for x in values] ))\n",
    "    \n",
    "    \n",
    "    return [math.exp(-1.0/eta*( k - k2 + gram_term )) for (u,k,k2) in zip(us, kernel_term, kernel_term2)]\n",
    "\n",
    "\n",
    "def get_memebrship(x, values, kernel, us, eta):\n",
    "    \n",
    "    '''\n",
    "    return the membership of a point with (28) in Probabilistic C-Means\n",
    "    '''\n",
    "    \n",
    "    b = 1.0/sum(us)\n",
    "    \n",
    "    cp = zip(values,us)\n",
    "    gram_term = b * b * sum([u1*u2*kernel.compute(x1,x2) for (x1,u1) in cp for x2,u2 in cp])\n",
    "    \n",
    "    kernel_term = kernel.compute(x,x)\n",
    "    \n",
    "    kernel_term2 = 2.0*b* sum( [u * kernel.compute(v,x) for (u,v) in zip(us,values)] )\n",
    "    \n",
    "    \n",
    "    return [math.exp(-1.0/eta*( kernel_term - kernel_term2 + gram_term ))]\n",
    "\n",
    "\n",
    "def get_alfa(us, prc):\n",
    "    \n",
    "    n=len(us)\n",
    "    sorted_us = sorted(us)\n",
    "    i=(n+1)*prc/100\n",
    "    return sorted_us[i]\n"
   ]
  },
  {
   "cell_type": "code",
   "execution_count": 3,
   "metadata": {},
   "outputs": [],
   "source": [
    "#GET THE DATASET\n",
    "source = 'https://archive.ics.uci.edu/ml/machine-learning-databases/iris/iris.data'\n",
    "\n",
    "iris_df = pd.read_csv(\n",
    "    filepath_or_buffer=source,\n",
    "    header=None,\n",
    "    sep=',')\n",
    "\n",
    "iris_df.columns=['sepal_len', 'sepal_wid', 'petal_len', 'petal_wid', 'class']\n",
    "iris_df.dropna(how=\"all\", inplace=True) # drops the empty line at file-end\n",
    "\n",
    "iris_values = iris_df.iloc[:,:4].values #values-only array\n",
    "iris_labels = iris_df.iloc[:,4].values #labels-only array\n",
    "\n",
    "iris_values = svf.get_principal_components(iris_values, 2)"
   ]
  },
  {
   "cell_type": "code",
   "execution_count": 4,
   "metadata": {},
   "outputs": [],
   "source": [
    "#initialize sigma, kernel, gamma, us, epsilon, delta\n",
    "\n",
    "values = iris_values\n",
    "\n",
    "sigma = 0.200\n",
    "kernel = GaussianKernel(sigma)\n",
    "gamma = 5\n",
    "\n",
    "n = len(values)\n",
    "us = np.zeros(n) + 1.0/n\n",
    "\n",
    "eta = get_eta(values, kernel, us, gamma)\n",
    "\n",
    "delta = 1\n",
    "epsilon = 1e-5\n",
    "\n",
    "i=0;\n",
    "\n",
    "while(delta >= epsilon):\n",
    "    \n",
    "    new_us = np.array(update_us(values, kernel, us, eta))\n",
    "    diff = us - new_us\n",
    "    delta = sum( map(math.fabs, diff) )\n",
    "    us = new_us\n",
    "    eta = get_eta(values, kernel, us, gamma)\n",
    "    \n",
    "    i=i+1\n",
    "    \n",
    "alfa = get_alfa(us, 20)"
   ]
  },
  {
   "cell_type": "code",
   "execution_count": 5,
   "metadata": {},
   "outputs": [
    {
     "data": {
      "image/png": "[encoded data removed]",
      "text/plain": [
       "<matplotlib.figure.Figure at 0x1163eddd0>"
      ]
     },
     "metadata": {},
     "output_type": "display_data"
    }
   ],
   "source": [
    "%matplotlib inline\n",
    "import matplotlib.pyplot as plt\n",
    "\n",
    "for i in range(n):\n",
    "    if us[i] >= alfa:\n",
    "        plt.scatter(values[i][0],values[i][1],c='blue')\n",
    "    else:\n",
    "        plt.scatter(values[i][0],values[i][1],c='red')"
   ]
  },
  {
   "cell_type": "code",
   "execution_count": null,
   "metadata": {},
   "outputs": [],
   "source": []
  }
 ],
 "metadata": {
  "kernelspec": {
   "display_name": "Python 2",
   "language": "python",
   "name": "python2"
  },
  "language_info": {
   "codemirror_mode": {
    "name": "ipython",
    "version": 2
   },
   "file_extension": ".py",
   "mimetype": "text/x-python",
   "name": "python",
   "nbconvert_exporter": "python",
   "pygments_lexer": "ipython2",
   "version": "2.7.14"
  }
 },
 "nbformat": 4,
 "nbformat_minor": 2
}
