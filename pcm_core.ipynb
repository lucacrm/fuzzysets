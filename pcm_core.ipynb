{
 "cells": [
  {
   "cell_type": "code",
   "execution_count": 1,
   "metadata": {},
   "outputs": [],
   "source": [
    "import utils as ut\n",
    "import numpy as np\n",
    "import pandas as pd\n",
    "import networkx as nx\n",
    "import itertools as it\n",
    "import math\n",
    "from possibilearn import GaussianKernel"
   ]
  },
  {
   "cell_type": "code",
   "execution_count": 2,
   "metadata": {},
   "outputs": [],
   "source": [
    "def get_eta(values, kernel, us, gamma):\n",
    "    \n",
    "    '''\n",
    "    calculates the parameter eta with (27) in Probabilistic C-Means\n",
    "    '''\n",
    "    \n",
    "    b = 1.0/sum(us)\n",
    "    \n",
    "    cp = zip(values,us)\n",
    "    gram_term = b * b * sum([ u1*u2*kernel.compute(x1,x2) for (x1,u1) in cp for x2,u2 in cp])\n",
    "    \n",
    "    kernel_term =[]\n",
    "    kernel_term2 = []\n",
    "    for i in range(len(us)):\n",
    "        kernel_term.append(kernel.compute(values[i], values[i]))\n",
    "        kernel_term2.append( 2.0*b* sum( [us[i]*kernel.compute(values[i],x) for x in values] ))\n",
    "                            \n",
    "    return gamma * b * sum([u*(k - k2 + gram_term) for (u,k,k2) in zip (us, kernel_term, kernel_term2)])\n",
    "        \n",
    "                            \n",
    "def update_us(values, kernel, us, eta):\n",
    "    \n",
    "    '''\n",
    "    return the updated u with (26) in Probabilistic C-Means\n",
    "    '''\n",
    "    \n",
    "    b = 1.0/sum(us)\n",
    "    \n",
    "    cp = zip(values,us)\n",
    "    gram_term = b * b * sum([u1*u2*kernel.compute(x1,x2) for (x1,u1) in cp for x2,u2 in cp])\n",
    "    \n",
    "    kernel_term =[]\n",
    "    kernel_term2 = []\n",
    "    for i in range(len(us)):\n",
    "        kernel_term.append(kernel.compute(values[i], values[i]))\n",
    "        kernel_term2.append( 2.0*b* sum( [us[i]*kernel.compute(values[i],x) for x in values] ))\n",
    "    \n",
    "    \n",
    "    return [math.exp(-1.0/eta*( k - k2 + gram_term )) for (u,k,k2) in zip(us, kernel_term, kernel_term2)]\n",
    "\n",
    "\n",
    "def get_memebrship(x, values, kernel, us, eta, gram_term):\n",
    "    \n",
    "    '''\n",
    "    return the membership of a point with (28) in Probabilistic C-Means\n",
    "    '''\n",
    "    \n",
    "    b = 1.0/sum(us)\n",
    "    \n",
    "    kernel_term = kernel.compute(x,x)\n",
    "    \n",
    "    kernel_term2 = 2.0*b* sum( [u * kernel.compute(v,x) for (u,v) in zip(us,values)] )\n",
    "    \n",
    "    \n",
    "    return [math.exp(-1.0/eta*( kernel_term - kernel_term2 + gram_term ))]\n",
    "\n",
    "\n",
    "def get_alfa(us, prc):\n",
    "    \n",
    "    n=len(us)\n",
    "    sorted_us = sorted(us)\n",
    "    i=(n+1)*prc/100\n",
    "    return sorted_us[i]\n"
   ]
  },
  {
   "cell_type": "code",
   "execution_count": 3,
   "metadata": {},
   "outputs": [],
   "source": [
    "#GET THE DATASET\n",
    "source = 'https://archive.ics.uci.edu/ml/machine-learning-databases/iris/iris.data'\n",
    "\n",
    "iris_df = pd.read_csv(\n",
    "    filepath_or_buffer=source,\n",
    "    header=None,\n",
    "    sep=',')\n",
    "\n",
    "iris_df.columns=['sepal_len', 'sepal_wid', 'petal_len', 'petal_wid', 'class']\n",
    "iris_df.dropna(how=\"all\", inplace=True) # drops the empty line at file-end\n",
    "\n",
    "iris_values = iris_df.iloc[:,:4].values #values-only array\n",
    "iris_labels = iris_df.iloc[:,4].values #labels-only array\n",
    "\n",
    "iris_values = ut.get_principal_components(iris_values, 2)"
   ]
  },
  {
   "cell_type": "code",
   "execution_count": 4,
   "metadata": {},
   "outputs": [],
   "source": [
    "#initialize sigma, kernel, gamma, us, epsilon, delta\n",
    "\n",
    "values = iris_values\n",
    "\n",
    "sigma = 0.1\n",
    "kernel = GaussianKernel(sigma)\n",
    "gamma = 0.5\n",
    "\n",
    "n = len(values)\n",
    "us = np.zeros(n) + 1.0/n\n",
    "\n",
    "eta = get_eta(values, kernel, us, gamma)\n",
    "\n",
    "delta = 1\n",
    "epsilon = 1e-5\n",
    "\n",
    "cp = zip(values,us)\n",
    "gram_term = sum([u1*u2*kernel.compute(x1,x2) for (x1,u1) in cp for x2,u2 in cp])\n",
    "\n",
    "i=0;\n",
    "\n",
    "while(delta >= epsilon):\n",
    "    \n",
    "    new_us = np.array(update_us(values, kernel, us, eta))\n",
    "    diff = us - new_us\n",
    "    delta = sum( map(math.fabs, diff) )\n",
    "    us = new_us\n",
    "    eta = get_eta(values, kernel, us, gamma)\n",
    "    \n",
    "    i=i+1\n",
    "    \n",
    "alfa = get_alfa(us, 40)"
   ]
  },
  {
   "cell_type": "code",
   "execution_count": 5,
   "metadata": {},
   "outputs": [
    {
     "data": {
      "image/png": "[encoded data removed]",
      "text/plain": [
       "<matplotlib.figure.Figure at 0x1a119c1b10>"
      ]
     },
     "metadata": {},
     "output_type": "display_data"
    }
   ],
   "source": [
    "%matplotlib inline\n",
    "import matplotlib.pyplot as plt\n",
    "\n",
    "for i in range(n):\n",
    "    if us[i] >= alfa:\n",
    "        plt.scatter(values[i][0],values[i][1],c='blue')\n",
    "    else:\n",
    "        plt.scatter(values[i][0],values[i][1],c='red')"
   ]
  },
  {
   "cell_type": "code",
   "execution_count": 6,
   "metadata": {},
   "outputs": [],
   "source": [
    "def check_couples(x_start, x_end, alfa, d, discretization_size=20):\n",
    "\n",
    "    x_start = np.array(x_start)\n",
    "    x_end = np.array(x_end)\n",
    "    discretization = np.arange(0., 1+1./discretization_size, 1./discretization_size)\n",
    "    for x_between in [alpha*x_start + (1-alpha)*x_end for alpha in discretization]:\n",
    "        if d(x_between) < alfa:\n",
    "            return 0\n",
    "    return 1\n",
    "\n",
    "def build_clusters(values, indexes, alfa, d):\n",
    "    \n",
    "    G = nx.Graph()\n",
    "    G.add_nodes_from(indexes)\n",
    "    \n",
    "    couples = list(it.combinations(indexes,2))\n",
    "    \n",
    "    for c in couples:\n",
    "        if check_couples(values[c[0]], values[c[1]], alfa, d):\n",
    "            G.add_edge(c[0],c[1])\n",
    "            \n",
    "    return [list(c) for c in list(nx.connected_components(G))]"
   ]
  },
  {
   "cell_type": "code",
   "execution_count": 7,
   "metadata": {},
   "outputs": [
    {
     "data": {
      "text/plain": [
       "[[0, 43, 49, 40, 11, 17, 20, 24, 7, 26, 27, 28, 39, 31],\n",
       " [1, 34, 3, 37, 9, 12, 2, 45, 35, 25, 47, 29, 30],\n",
       " [10, 44, 46, 48, 19, 21],\n",
       " [96, 97, 66, 91, 133, 138, 78, 74, 95, 84, 149, 54, 88, 58, 63, 61, 126, 127],\n",
       " [99, 82, 67, 55, 92, 94],\n",
       " [59, 79],\n",
       " [65],\n",
       " [68, 119],\n",
       " [137, 147, 116, 77],\n",
       " [80],\n",
       " [121, 83, 101, 134, 142],\n",
       " [89],\n",
       " [129, 100, 104, 144, 139, 140, 141, 143, 112, 145, 120, 125],\n",
       " [105, 135],\n",
       " [114],\n",
       " [128, 132]]"
      ]
     },
     "execution_count": 7,
     "metadata": {},
     "output_type": "execute_result"
    }
   ],
   "source": [
    "us = np.array(us)\n",
    "values = np.array(values)\n",
    "\n",
    "b = 1.0/sum(us)\n",
    "cp = zip(values,us)\n",
    "gram_term = b * b * sum([u1*u2*kernel.compute(x1,x2) for (x1,u1) in cp for (x2,u2) in cp])\n",
    "\n",
    "dst = lambda x_new: get_memebrship(x_new, values, kernel, us, eta, gram_term)\n",
    "\n",
    "point_to_be_clustered=[]\n",
    "for i in range(len(us)):\n",
    "    if us[i] >= alfa:\n",
    "        point_to_be_clustered.append(i)\n",
    "        \n",
    "build_clusters(values, point_to_be_clustered, alfa, dst)"
   ]
  },
  {
   "cell_type": "code",
   "execution_count": null,
   "metadata": {},
   "outputs": [],
   "source": []
  }
 ],
 "metadata": {
  "kernelspec": {
   "display_name": "Python 2",
   "language": "python",
   "name": "python2"
  },
  "language_info": {
   "codemirror_mode": {
    "name": "ipython",
    "version": 2
   },
   "file_extension": ".py",
   "mimetype": "text/x-python",
   "name": "python",
   "nbconvert_exporter": "python",
   "pygments_lexer": "ipython2",
   "version": "2.7.14"
  }
 },
 "nbformat": 4,
 "nbformat_minor": 2
}
